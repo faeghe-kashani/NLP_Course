{
  "cells": [
    {
      "cell_type": "markdown",
      "metadata": {
        "id": "Uc_pL4ErDarT"
      },
      "source": [
        "# 📘 Text Classification Assignment: Amazon Fine Food Reviews\n",
        "\n",
        "🧠 Objective\n",
        "In this assignment, you'll learn how to build a text classification pipeline to predict sentiment (positive or negative) of food reviews. You'll use several classic ML models:\n",
        "\n",
        "✅ Logistic Regression\n",
        "\n",
        "✅ Naive Bayes\n",
        "\n",
        "✅ Support Vector Machine (SVM)\n",
        "\n",
        "✅ Random Forest\n",
        "\n",
        "✅ XGBoost\n",
        "\n",
        "\n",
        "\n",
        " https://www.kaggle.com/datasets/snap/amazon-fine-food-reviews"
      ]
    },
    {
      "cell_type": "markdown",
      "metadata": {
        "id": "k_W03NaY_CVr"
      },
      "source": [
        "## 🥗 📦 Step 1: Load the Dataset\n",
        "\n"
      ]
    },
    {
      "cell_type": "code",
      "execution_count": 1,
      "metadata": {
        "id": "lIYdn1woOS1n",
        "outputId": "292d5ffb-cfba-4abd-a0fe-cccccd9f00b4",
        "colab": {
          "base_uri": "https://localhost:8080/"
        }
      },
      "outputs": [
        {
          "output_type": "stream",
          "name": "stdout",
          "text": [
            "Downloading from https://www.kaggle.com/api/v1/datasets/download/snap/amazon-fine-food-reviews?dataset_version_number=2...\n"
          ]
        },
        {
          "output_type": "stream",
          "name": "stderr",
          "text": [
            "100%|██████████| 242M/242M [00:06<00:00, 38.1MB/s]"
          ]
        },
        {
          "output_type": "stream",
          "name": "stdout",
          "text": [
            "Extracting files...\n"
          ]
        },
        {
          "output_type": "stream",
          "name": "stderr",
          "text": [
            "\n"
          ]
        },
        {
          "output_type": "stream",
          "name": "stdout",
          "text": [
            "📁 Path to dataset files: /root/.cache/kagglehub/datasets/snap/amazon-fine-food-reviews/versions/2\n",
            "🗃️ Files in the dataset: ['Reviews.csv', 'database.sqlite', 'hashes.txt']\n"
          ]
        }
      ],
      "source": [
        "import os\n",
        "import kagglehub\n",
        "import pandas as pd\n",
        "\n",
        "# Download the dataset\n",
        "path = kagglehub.dataset_download(\"snap/amazon-fine-food-reviews\")\n",
        "print(\"📁 Path to dataset files:\", path)\n",
        "print(\"🗃️ Files in the dataset:\", os.listdir(path))\n",
        "\n"
      ]
    },
    {
      "cell_type": "code",
      "source": [
        "# Load CSV\n",
        "csv_file_path = os.path.join(path, \"Reviews.csv\")\n",
        "df = pd.read_csv(csv_file_path)\n",
        "df.head()\n"
      ],
      "metadata": {
        "id": "bQP2fZ029GsV",
        "outputId": "65c8c076-e451-4012-e191-5d820eb4d226",
        "colab": {
          "base_uri": "https://localhost:8080/",
          "height": 570
        }
      },
      "execution_count": 2,
      "outputs": [
        {
          "output_type": "execute_result",
          "data": {
            "text/plain": [
              "   Id   ProductId          UserId                      ProfileName  \\\n",
              "0   1  B001E4KFG0  A3SGXH7AUHU8GW                       delmartian   \n",
              "1   2  B00813GRG4  A1D87F6ZCVE5NK                           dll pa   \n",
              "2   3  B000LQOCH0   ABXLMWJIXXAIN  Natalia Corres \"Natalia Corres\"   \n",
              "3   4  B000UA0QIQ  A395BORC6FGVXV                             Karl   \n",
              "4   5  B006K2ZZ7K  A1UQRSCLF8GW1T    Michael D. Bigham \"M. Wassir\"   \n",
              "\n",
              "   HelpfulnessNumerator  HelpfulnessDenominator  Score        Time  \\\n",
              "0                     1                       1      5  1303862400   \n",
              "1                     0                       0      1  1346976000   \n",
              "2                     1                       1      4  1219017600   \n",
              "3                     3                       3      2  1307923200   \n",
              "4                     0                       0      5  1350777600   \n",
              "\n",
              "                 Summary                                               Text  \n",
              "0  Good Quality Dog Food  I have bought several of the Vitality canned d...  \n",
              "1      Not as Advertised  Product arrived labeled as Jumbo Salted Peanut...  \n",
              "2  \"Delight\" says it all  This is a confection that has been around a fe...  \n",
              "3         Cough Medicine  If you are looking for the secret ingredient i...  \n",
              "4            Great taffy  Great taffy at a great price.  There was a wid...  "
            ],
            "text/html": [
              "\n",
              "  <div id=\"df-eb46cc42-be78-4b41-8233-ac51466f58f1\" class=\"colab-df-container\">\n",
              "    <div>\n",
              "<style scoped>\n",
              "    .dataframe tbody tr th:only-of-type {\n",
              "        vertical-align: middle;\n",
              "    }\n",
              "\n",
              "    .dataframe tbody tr th {\n",
              "        vertical-align: top;\n",
              "    }\n",
              "\n",
              "    .dataframe thead th {\n",
              "        text-align: right;\n",
              "    }\n",
              "</style>\n",
              "<table border=\"1\" class=\"dataframe\">\n",
              "  <thead>\n",
              "    <tr style=\"text-align: right;\">\n",
              "      <th></th>\n",
              "      <th>Id</th>\n",
              "      <th>ProductId</th>\n",
              "      <th>UserId</th>\n",
              "      <th>ProfileName</th>\n",
              "      <th>HelpfulnessNumerator</th>\n",
              "      <th>HelpfulnessDenominator</th>\n",
              "      <th>Score</th>\n",
              "      <th>Time</th>\n",
              "      <th>Summary</th>\n",
              "      <th>Text</th>\n",
              "    </tr>\n",
              "  </thead>\n",
              "  <tbody>\n",
              "    <tr>\n",
              "      <th>0</th>\n",
              "      <td>1</td>\n",
              "      <td>B001E4KFG0</td>\n",
              "      <td>A3SGXH7AUHU8GW</td>\n",
              "      <td>delmartian</td>\n",
              "      <td>1</td>\n",
              "      <td>1</td>\n",
              "      <td>5</td>\n",
              "      <td>1303862400</td>\n",
              "      <td>Good Quality Dog Food</td>\n",
              "      <td>I have bought several of the Vitality canned d...</td>\n",
              "    </tr>\n",
              "    <tr>\n",
              "      <th>1</th>\n",
              "      <td>2</td>\n",
              "      <td>B00813GRG4</td>\n",
              "      <td>A1D87F6ZCVE5NK</td>\n",
              "      <td>dll pa</td>\n",
              "      <td>0</td>\n",
              "      <td>0</td>\n",
              "      <td>1</td>\n",
              "      <td>1346976000</td>\n",
              "      <td>Not as Advertised</td>\n",
              "      <td>Product arrived labeled as Jumbo Salted Peanut...</td>\n",
              "    </tr>\n",
              "    <tr>\n",
              "      <th>2</th>\n",
              "      <td>3</td>\n",
              "      <td>B000LQOCH0</td>\n",
              "      <td>ABXLMWJIXXAIN</td>\n",
              "      <td>Natalia Corres \"Natalia Corres\"</td>\n",
              "      <td>1</td>\n",
              "      <td>1</td>\n",
              "      <td>4</td>\n",
              "      <td>1219017600</td>\n",
              "      <td>\"Delight\" says it all</td>\n",
              "      <td>This is a confection that has been around a fe...</td>\n",
              "    </tr>\n",
              "    <tr>\n",
              "      <th>3</th>\n",
              "      <td>4</td>\n",
              "      <td>B000UA0QIQ</td>\n",
              "      <td>A395BORC6FGVXV</td>\n",
              "      <td>Karl</td>\n",
              "      <td>3</td>\n",
              "      <td>3</td>\n",
              "      <td>2</td>\n",
              "      <td>1307923200</td>\n",
              "      <td>Cough Medicine</td>\n",
              "      <td>If you are looking for the secret ingredient i...</td>\n",
              "    </tr>\n",
              "    <tr>\n",
              "      <th>4</th>\n",
              "      <td>5</td>\n",
              "      <td>B006K2ZZ7K</td>\n",
              "      <td>A1UQRSCLF8GW1T</td>\n",
              "      <td>Michael D. Bigham \"M. Wassir\"</td>\n",
              "      <td>0</td>\n",
              "      <td>0</td>\n",
              "      <td>5</td>\n",
              "      <td>1350777600</td>\n",
              "      <td>Great taffy</td>\n",
              "      <td>Great taffy at a great price.  There was a wid...</td>\n",
              "    </tr>\n",
              "  </tbody>\n",
              "</table>\n",
              "</div>\n",
              "    <div class=\"colab-df-buttons\">\n",
              "\n",
              "  <div class=\"colab-df-container\">\n",
              "    <button class=\"colab-df-convert\" onclick=\"convertToInteractive('df-eb46cc42-be78-4b41-8233-ac51466f58f1')\"\n",
              "            title=\"Convert this dataframe to an interactive table.\"\n",
              "            style=\"display:none;\">\n",
              "\n",
              "  <svg xmlns=\"http://www.w3.org/2000/svg\" height=\"24px\" viewBox=\"0 -960 960 960\">\n",
              "    <path d=\"M120-120v-720h720v720H120Zm60-500h600v-160H180v160Zm220 220h160v-160H400v160Zm0 220h160v-160H400v160ZM180-400h160v-160H180v160Zm440 0h160v-160H620v160ZM180-180h160v-160H180v160Zm440 0h160v-160H620v160Z\"/>\n",
              "  </svg>\n",
              "    </button>\n",
              "\n",
              "  <style>\n",
              "    .colab-df-container {\n",
              "      display:flex;\n",
              "      gap: 12px;\n",
              "    }\n",
              "\n",
              "    .colab-df-convert {\n",
              "      background-color: #E8F0FE;\n",
              "      border: none;\n",
              "      border-radius: 50%;\n",
              "      cursor: pointer;\n",
              "      display: none;\n",
              "      fill: #1967D2;\n",
              "      height: 32px;\n",
              "      padding: 0 0 0 0;\n",
              "      width: 32px;\n",
              "    }\n",
              "\n",
              "    .colab-df-convert:hover {\n",
              "      background-color: #E2EBFA;\n",
              "      box-shadow: 0px 1px 2px rgba(60, 64, 67, 0.3), 0px 1px 3px 1px rgba(60, 64, 67, 0.15);\n",
              "      fill: #174EA6;\n",
              "    }\n",
              "\n",
              "    .colab-df-buttons div {\n",
              "      margin-bottom: 4px;\n",
              "    }\n",
              "\n",
              "    [theme=dark] .colab-df-convert {\n",
              "      background-color: #3B4455;\n",
              "      fill: #D2E3FC;\n",
              "    }\n",
              "\n",
              "    [theme=dark] .colab-df-convert:hover {\n",
              "      background-color: #434B5C;\n",
              "      box-shadow: 0px 1px 3px 1px rgba(0, 0, 0, 0.15);\n",
              "      filter: drop-shadow(0px 1px 2px rgba(0, 0, 0, 0.3));\n",
              "      fill: #FFFFFF;\n",
              "    }\n",
              "  </style>\n",
              "\n",
              "    <script>\n",
              "      const buttonEl =\n",
              "        document.querySelector('#df-eb46cc42-be78-4b41-8233-ac51466f58f1 button.colab-df-convert');\n",
              "      buttonEl.style.display =\n",
              "        google.colab.kernel.accessAllowed ? 'block' : 'none';\n",
              "\n",
              "      async function convertToInteractive(key) {\n",
              "        const element = document.querySelector('#df-eb46cc42-be78-4b41-8233-ac51466f58f1');\n",
              "        const dataTable =\n",
              "          await google.colab.kernel.invokeFunction('convertToInteractive',\n",
              "                                                    [key], {});\n",
              "        if (!dataTable) return;\n",
              "\n",
              "        const docLinkHtml = 'Like what you see? Visit the ' +\n",
              "          '<a target=\"_blank\" href=https://colab.research.google.com/notebooks/data_table.ipynb>data table notebook</a>'\n",
              "          + ' to learn more about interactive tables.';\n",
              "        element.innerHTML = '';\n",
              "        dataTable['output_type'] = 'display_data';\n",
              "        await google.colab.output.renderOutput(dataTable, element);\n",
              "        const docLink = document.createElement('div');\n",
              "        docLink.innerHTML = docLinkHtml;\n",
              "        element.appendChild(docLink);\n",
              "      }\n",
              "    </script>\n",
              "  </div>\n",
              "\n",
              "\n",
              "<div id=\"df-b1f3fd23-4671-4e7b-9c1b-fd5066bea270\">\n",
              "  <button class=\"colab-df-quickchart\" onclick=\"quickchart('df-b1f3fd23-4671-4e7b-9c1b-fd5066bea270')\"\n",
              "            title=\"Suggest charts\"\n",
              "            style=\"display:none;\">\n",
              "\n",
              "<svg xmlns=\"http://www.w3.org/2000/svg\" height=\"24px\"viewBox=\"0 0 24 24\"\n",
              "     width=\"24px\">\n",
              "    <g>\n",
              "        <path d=\"M19 3H5c-1.1 0-2 .9-2 2v14c0 1.1.9 2 2 2h14c1.1 0 2-.9 2-2V5c0-1.1-.9-2-2-2zM9 17H7v-7h2v7zm4 0h-2V7h2v10zm4 0h-2v-4h2v4z\"/>\n",
              "    </g>\n",
              "</svg>\n",
              "  </button>\n",
              "\n",
              "<style>\n",
              "  .colab-df-quickchart {\n",
              "      --bg-color: #E8F0FE;\n",
              "      --fill-color: #1967D2;\n",
              "      --hover-bg-color: #E2EBFA;\n",
              "      --hover-fill-color: #174EA6;\n",
              "      --disabled-fill-color: #AAA;\n",
              "      --disabled-bg-color: #DDD;\n",
              "  }\n",
              "\n",
              "  [theme=dark] .colab-df-quickchart {\n",
              "      --bg-color: #3B4455;\n",
              "      --fill-color: #D2E3FC;\n",
              "      --hover-bg-color: #434B5C;\n",
              "      --hover-fill-color: #FFFFFF;\n",
              "      --disabled-bg-color: #3B4455;\n",
              "      --disabled-fill-color: #666;\n",
              "  }\n",
              "\n",
              "  .colab-df-quickchart {\n",
              "    background-color: var(--bg-color);\n",
              "    border: none;\n",
              "    border-radius: 50%;\n",
              "    cursor: pointer;\n",
              "    display: none;\n",
              "    fill: var(--fill-color);\n",
              "    height: 32px;\n",
              "    padding: 0;\n",
              "    width: 32px;\n",
              "  }\n",
              "\n",
              "  .colab-df-quickchart:hover {\n",
              "    background-color: var(--hover-bg-color);\n",
              "    box-shadow: 0 1px 2px rgba(60, 64, 67, 0.3), 0 1px 3px 1px rgba(60, 64, 67, 0.15);\n",
              "    fill: var(--button-hover-fill-color);\n",
              "  }\n",
              "\n",
              "  .colab-df-quickchart-complete:disabled,\n",
              "  .colab-df-quickchart-complete:disabled:hover {\n",
              "    background-color: var(--disabled-bg-color);\n",
              "    fill: var(--disabled-fill-color);\n",
              "    box-shadow: none;\n",
              "  }\n",
              "\n",
              "  .colab-df-spinner {\n",
              "    border: 2px solid var(--fill-color);\n",
              "    border-color: transparent;\n",
              "    border-bottom-color: var(--fill-color);\n",
              "    animation:\n",
              "      spin 1s steps(1) infinite;\n",
              "  }\n",
              "\n",
              "  @keyframes spin {\n",
              "    0% {\n",
              "      border-color: transparent;\n",
              "      border-bottom-color: var(--fill-color);\n",
              "      border-left-color: var(--fill-color);\n",
              "    }\n",
              "    20% {\n",
              "      border-color: transparent;\n",
              "      border-left-color: var(--fill-color);\n",
              "      border-top-color: var(--fill-color);\n",
              "    }\n",
              "    30% {\n",
              "      border-color: transparent;\n",
              "      border-left-color: var(--fill-color);\n",
              "      border-top-color: var(--fill-color);\n",
              "      border-right-color: var(--fill-color);\n",
              "    }\n",
              "    40% {\n",
              "      border-color: transparent;\n",
              "      border-right-color: var(--fill-color);\n",
              "      border-top-color: var(--fill-color);\n",
              "    }\n",
              "    60% {\n",
              "      border-color: transparent;\n",
              "      border-right-color: var(--fill-color);\n",
              "    }\n",
              "    80% {\n",
              "      border-color: transparent;\n",
              "      border-right-color: var(--fill-color);\n",
              "      border-bottom-color: var(--fill-color);\n",
              "    }\n",
              "    90% {\n",
              "      border-color: transparent;\n",
              "      border-bottom-color: var(--fill-color);\n",
              "    }\n",
              "  }\n",
              "</style>\n",
              "\n",
              "  <script>\n",
              "    async function quickchart(key) {\n",
              "      const quickchartButtonEl =\n",
              "        document.querySelector('#' + key + ' button');\n",
              "      quickchartButtonEl.disabled = true;  // To prevent multiple clicks.\n",
              "      quickchartButtonEl.classList.add('colab-df-spinner');\n",
              "      try {\n",
              "        const charts = await google.colab.kernel.invokeFunction(\n",
              "            'suggestCharts', [key], {});\n",
              "      } catch (error) {\n",
              "        console.error('Error during call to suggestCharts:', error);\n",
              "      }\n",
              "      quickchartButtonEl.classList.remove('colab-df-spinner');\n",
              "      quickchartButtonEl.classList.add('colab-df-quickchart-complete');\n",
              "    }\n",
              "    (() => {\n",
              "      let quickchartButtonEl =\n",
              "        document.querySelector('#df-b1f3fd23-4671-4e7b-9c1b-fd5066bea270 button');\n",
              "      quickchartButtonEl.style.display =\n",
              "        google.colab.kernel.accessAllowed ? 'block' : 'none';\n",
              "    })();\n",
              "  </script>\n",
              "</div>\n",
              "    </div>\n",
              "  </div>\n"
            ],
            "application/vnd.google.colaboratory.intrinsic+json": {
              "type": "dataframe",
              "variable_name": "df"
            }
          },
          "metadata": {},
          "execution_count": 2
        }
      ]
    },
    {
      "cell_type": "markdown",
      "source": [
        "## 🔍 Step 2: Explore the Data\n"
      ],
      "metadata": {
        "id": "_ANmBTgB8TN9"
      }
    },
    {
      "cell_type": "code",
      "source": [
        "# Check the dataset shape\n",
        "print(\"Shape of the dataset:\", df.shape)\n",
        "\n",
        "# Check for null values\n",
        "df.isnull().sum()\n"
      ],
      "metadata": {
        "id": "imlTV5dj8Ryl",
        "outputId": "4b6ecb19-f778-460f-aaa1-98bd07c0d20c",
        "colab": {
          "base_uri": "https://localhost:8080/",
          "height": 416
        }
      },
      "execution_count": 3,
      "outputs": [
        {
          "output_type": "stream",
          "name": "stdout",
          "text": [
            "Shape of the dataset: (568454, 10)\n"
          ]
        },
        {
          "output_type": "execute_result",
          "data": {
            "text/plain": [
              "Id                         0\n",
              "ProductId                  0\n",
              "UserId                     0\n",
              "ProfileName               26\n",
              "HelpfulnessNumerator       0\n",
              "HelpfulnessDenominator     0\n",
              "Score                      0\n",
              "Time                       0\n",
              "Summary                   27\n",
              "Text                       0\n",
              "dtype: int64"
            ],
            "text/html": [
              "<div>\n",
              "<style scoped>\n",
              "    .dataframe tbody tr th:only-of-type {\n",
              "        vertical-align: middle;\n",
              "    }\n",
              "\n",
              "    .dataframe tbody tr th {\n",
              "        vertical-align: top;\n",
              "    }\n",
              "\n",
              "    .dataframe thead th {\n",
              "        text-align: right;\n",
              "    }\n",
              "</style>\n",
              "<table border=\"1\" class=\"dataframe\">\n",
              "  <thead>\n",
              "    <tr style=\"text-align: right;\">\n",
              "      <th></th>\n",
              "      <th>0</th>\n",
              "    </tr>\n",
              "  </thead>\n",
              "  <tbody>\n",
              "    <tr>\n",
              "      <th>Id</th>\n",
              "      <td>0</td>\n",
              "    </tr>\n",
              "    <tr>\n",
              "      <th>ProductId</th>\n",
              "      <td>0</td>\n",
              "    </tr>\n",
              "    <tr>\n",
              "      <th>UserId</th>\n",
              "      <td>0</td>\n",
              "    </tr>\n",
              "    <tr>\n",
              "      <th>ProfileName</th>\n",
              "      <td>26</td>\n",
              "    </tr>\n",
              "    <tr>\n",
              "      <th>HelpfulnessNumerator</th>\n",
              "      <td>0</td>\n",
              "    </tr>\n",
              "    <tr>\n",
              "      <th>HelpfulnessDenominator</th>\n",
              "      <td>0</td>\n",
              "    </tr>\n",
              "    <tr>\n",
              "      <th>Score</th>\n",
              "      <td>0</td>\n",
              "    </tr>\n",
              "    <tr>\n",
              "      <th>Time</th>\n",
              "      <td>0</td>\n",
              "    </tr>\n",
              "    <tr>\n",
              "      <th>Summary</th>\n",
              "      <td>27</td>\n",
              "    </tr>\n",
              "    <tr>\n",
              "      <th>Text</th>\n",
              "      <td>0</td>\n",
              "    </tr>\n",
              "  </tbody>\n",
              "</table>\n",
              "</div><br><label><b>dtype:</b> int64</label>"
            ]
          },
          "metadata": {},
          "execution_count": 3
        }
      ]
    },
    {
      "cell_type": "markdown",
      "source": [
        "## 🛠️ Step 3: Redefine Target as 5-Class"
      ],
      "metadata": {
        "id": "Vzk06hps9P_f"
      }
    },
    {
      "cell_type": "code",
      "source": [
        "# Keep only necessary columns\n",
        "df = df[['Text', 'Score']].dropna()\n",
        "\n",
        "# Filter only scores from 1 to 5\n",
        "df = df[df['Score'].isin([1, 2, 3, 4, 5])]\n",
        "\n",
        "# Use Score as label directly (5 classes)\n",
        "df['Sentiment'] = df['Score'] - 1  # makes it 0 to 4 for sklearn\n",
        "df['Sentiment'].value_counts().sort_index()\n"
      ],
      "metadata": {
        "id": "MMw_w6tJ9TP2",
        "outputId": "553ad60d-5d38-4797-ec56-c46fb6af22c5",
        "colab": {
          "base_uri": "https://localhost:8080/",
          "height": 272
        }
      },
      "execution_count": 4,
      "outputs": [
        {
          "output_type": "execute_result",
          "data": {
            "text/plain": [
              "Sentiment\n",
              "0     52268\n",
              "1     29769\n",
              "2     42640\n",
              "3     80655\n",
              "4    363122\n",
              "Name: count, dtype: int64"
            ],
            "text/html": [
              "<div>\n",
              "<style scoped>\n",
              "    .dataframe tbody tr th:only-of-type {\n",
              "        vertical-align: middle;\n",
              "    }\n",
              "\n",
              "    .dataframe tbody tr th {\n",
              "        vertical-align: top;\n",
              "    }\n",
              "\n",
              "    .dataframe thead th {\n",
              "        text-align: right;\n",
              "    }\n",
              "</style>\n",
              "<table border=\"1\" class=\"dataframe\">\n",
              "  <thead>\n",
              "    <tr style=\"text-align: right;\">\n",
              "      <th></th>\n",
              "      <th>count</th>\n",
              "    </tr>\n",
              "    <tr>\n",
              "      <th>Sentiment</th>\n",
              "      <th></th>\n",
              "    </tr>\n",
              "  </thead>\n",
              "  <tbody>\n",
              "    <tr>\n",
              "      <th>0</th>\n",
              "      <td>52268</td>\n",
              "    </tr>\n",
              "    <tr>\n",
              "      <th>1</th>\n",
              "      <td>29769</td>\n",
              "    </tr>\n",
              "    <tr>\n",
              "      <th>2</th>\n",
              "      <td>42640</td>\n",
              "    </tr>\n",
              "    <tr>\n",
              "      <th>3</th>\n",
              "      <td>80655</td>\n",
              "    </tr>\n",
              "    <tr>\n",
              "      <th>4</th>\n",
              "      <td>363122</td>\n",
              "    </tr>\n",
              "  </tbody>\n",
              "</table>\n",
              "</div><br><label><b>dtype:</b> int64</label>"
            ]
          },
          "metadata": {},
          "execution_count": 4
        }
      ]
    },
    {
      "cell_type": "markdown",
      "source": [
        "## 🧹 Step 4: Text Cleaning and Preprocessing\n",
        "We'll lowercase the text and remove special characters using regular expressions."
      ],
      "metadata": {
        "id": "UX3a5nQc9dUj"
      }
    },
    {
      "cell_type": "code",
      "execution_count": 7,
      "metadata": {
        "id": "f0dd3d23",
        "outputId": "02af44a8-a79f-4f1b-bdc1-9262e24dd4a4",
        "colab": {
          "base_uri": "https://localhost:8080/",
          "height": 458
        }
      },
      "outputs": [
        {
          "output_type": "execute_result",
          "data": {
            "text/plain": [
              "0         ihaveboughtseveralofthevitalitycanneddogfoodpr...\n",
              "1         productarrivedlabeledasjumbosaltedpeanutsthepe...\n",
              "2         thisisaconfectionthathasbeenaroundafewcenturie...\n",
              "3         ifyouarelookingforthesecretingredientinrobitus...\n",
              "4         greattaffyatagreatpricetherewasawideassortment...\n",
              "                                ...                        \n",
              "568449    greatforsesamechickenthisisagoodifnotbettertha...\n",
              "568450    imdisappointedwiththeflavorthechocolatenotesar...\n",
              "568451    thesestarsaresmallsoyoucangiveofthoseinonetrai...\n",
              "568452    thesearethebesttreatsfortrainingandrewardingyo...\n",
              "568453    iamverysatisfiedproductisasadvertisediuseitonc...\n",
              "Name: Cleaned_Text, Length: 568454, dtype: object"
            ],
            "text/html": [
              "<div>\n",
              "<style scoped>\n",
              "    .dataframe tbody tr th:only-of-type {\n",
              "        vertical-align: middle;\n",
              "    }\n",
              "\n",
              "    .dataframe tbody tr th {\n",
              "        vertical-align: top;\n",
              "    }\n",
              "\n",
              "    .dataframe thead th {\n",
              "        text-align: right;\n",
              "    }\n",
              "</style>\n",
              "<table border=\"1\" class=\"dataframe\">\n",
              "  <thead>\n",
              "    <tr style=\"text-align: right;\">\n",
              "      <th></th>\n",
              "      <th>Cleaned_Text</th>\n",
              "    </tr>\n",
              "  </thead>\n",
              "  <tbody>\n",
              "    <tr>\n",
              "      <th>0</th>\n",
              "      <td>ihaveboughtseveralofthevitalitycanneddogfoodpr...</td>\n",
              "    </tr>\n",
              "    <tr>\n",
              "      <th>1</th>\n",
              "      <td>productarrivedlabeledasjumbosaltedpeanutsthepe...</td>\n",
              "    </tr>\n",
              "    <tr>\n",
              "      <th>2</th>\n",
              "      <td>thisisaconfectionthathasbeenaroundafewcenturie...</td>\n",
              "    </tr>\n",
              "    <tr>\n",
              "      <th>3</th>\n",
              "      <td>ifyouarelookingforthesecretingredientinrobitus...</td>\n",
              "    </tr>\n",
              "    <tr>\n",
              "      <th>4</th>\n",
              "      <td>greattaffyatagreatpricetherewasawideassortment...</td>\n",
              "    </tr>\n",
              "    <tr>\n",
              "      <th>...</th>\n",
              "      <td>...</td>\n",
              "    </tr>\n",
              "    <tr>\n",
              "      <th>568449</th>\n",
              "      <td>greatforsesamechickenthisisagoodifnotbettertha...</td>\n",
              "    </tr>\n",
              "    <tr>\n",
              "      <th>568450</th>\n",
              "      <td>imdisappointedwiththeflavorthechocolatenotesar...</td>\n",
              "    </tr>\n",
              "    <tr>\n",
              "      <th>568451</th>\n",
              "      <td>thesestarsaresmallsoyoucangiveofthoseinonetrai...</td>\n",
              "    </tr>\n",
              "    <tr>\n",
              "      <th>568452</th>\n",
              "      <td>thesearethebesttreatsfortrainingandrewardingyo...</td>\n",
              "    </tr>\n",
              "    <tr>\n",
              "      <th>568453</th>\n",
              "      <td>iamverysatisfiedproductisasadvertisediuseitonc...</td>\n",
              "    </tr>\n",
              "  </tbody>\n",
              "</table>\n",
              "<p>568454 rows × 1 columns</p>\n",
              "</div><br><label><b>dtype:</b> object</label>"
            ]
          },
          "metadata": {},
          "execution_count": 7
        }
      ],
      "source": [
        "import re\n",
        "import nltk\n",
        "\n",
        "# Download stopwords\n",
        "nltk.download('stopwords')\n",
        "from nltk.corpus import stopwords\n",
        "\n",
        "stop_words = set(stopwords.words('english'))\n",
        "\n",
        "def preprocess_text(text):\n",
        "    text = text.lower()\n",
        "    text = re.sub(r'[^a-zA-Z\\\\s]', '', text)\n",
        "    text = re.sub(r'\\\\s+', ' ', text).strip()\n",
        "    words = text.split()\n",
        "    words = [word for word in words if word not in stop_words]\n",
        "    return text\n",
        "\n",
        "# Apply cleaning\n",
        "df['Cleaned_Text'] = df['Text'].apply(preprocess_text)\n",
        "\n"
      ]
    },
    {
      "cell_type": "markdown",
      "source": [
        "## ✂️ Step 5: Train/Test Split & TF-IDF Vectorization\n"
      ],
      "metadata": {
        "id": "GGyAfnNQ9n3u"
      }
    },
    {
      "cell_type": "code",
      "execution_count": 33,
      "metadata": {
        "id": "Wgz4voty_Kh6"
      },
      "outputs": [],
      "source": [
        "from sklearn.model_selection import train_test_split\n",
        "from sklearn.feature_extraction.text import TfidfVectorizer\n",
        "\n",
        "X = df['Cleaned_Text']\n",
        "y = df['Sentiment']\n",
        "\n",
        "# Split\n",
        "X_train, X_test, y_train, y_test = train_test_split(X, y, stratify=y, test_size=0.2, random_state=42)\n",
        "\n",
        "# Vectorize using TF-IDF\n",
        "vectorizer = TfidfVectorizer(max_features=5000)\n",
        "X_train_vec = vectorizer.fit_transform(X_train)\n",
        "X_test_vec = vectorizer.transform(X_test)\n"
      ]
    },
    {
      "cell_type": "markdown",
      "metadata": {
        "id": "1VliOMP__TfE"
      },
      "source": [
        "## ⚙️ 🤖 Step 6: Train & Evaluate Models\n",
        "We'll train and evaluate each model using accuracy and classification report.\n"
      ]
    },
    {
      "cell_type": "code",
      "execution_count": 34,
      "metadata": {
        "id": "Lok9UPpM_R4l"
      },
      "outputs": [],
      "source": [
        "from sklearn.metrics import classification_report, accuracy_score\n",
        "\n",
        "def evaluate_model(model, name):\n",
        "    model.fit(X_train_vec, y_train)\n",
        "    y_pred = model.predict(X_test_vec)\n",
        "    acc = accuracy_score(y_test, y_pred)\n",
        "    print(f\"🔍 {name}\")\n",
        "    print(f\"✅ Accuracy: {acc:.4f}\")\n",
        "    print(classification_report(y_test, y_pred))\n"
      ]
    },
    {
      "cell_type": "markdown",
      "metadata": {
        "id": "PlAKbKq_C7nt"
      },
      "source": [
        "### 📈 Logistic Regression\n",
        "\n"
      ]
    },
    {
      "cell_type": "code",
      "execution_count": 36,
      "metadata": {
        "id": "aU8t3Vuc_YAE",
        "outputId": "8042437e-d707-4dda-ebe7-283823176dfe",
        "colab": {
          "base_uri": "https://localhost:8080/"
        }
      },
      "outputs": [
        {
          "output_type": "stream",
          "name": "stdout",
          "text": [
            "🔍 Logistic Regression\n",
            "✅ Accuracy: 0.6671\n",
            "              precision    recall  f1-score   support\n",
            "\n",
            "           0       1.00      0.08      0.14     10454\n",
            "           1       1.00      0.07      0.14      5954\n",
            "           2       1.00      0.08      0.15      8528\n",
            "           3       1.00      0.08      0.15     16131\n",
            "           4       0.66      1.00      0.79     72624\n",
            "\n",
            "    accuracy                           0.67    113691\n",
            "   macro avg       0.93      0.26      0.27    113691\n",
            "weighted avg       0.78      0.67      0.56    113691\n",
            "\n"
          ]
        }
      ],
      "source": [
        "from sklearn.linear_model import LogisticRegression\n",
        "lr = LogisticRegression(max_iter=1000)\n",
        "evaluate_model(lr, \"Logistic Regression\")\n"
      ]
    },
    {
      "cell_type": "markdown",
      "source": [
        "### 📊 Naive Bayes"
      ],
      "metadata": {
        "id": "A6KwRv_p-e1H"
      }
    },
    {
      "cell_type": "code",
      "source": [
        "from sklearn.naive_bayes import MultinomialNB\n",
        "nb = MultinomialNB()\n",
        "evaluate_model(nb, \"Naive Bayes\")\n"
      ],
      "metadata": {
        "id": "6RN8MwoK-gRc",
        "outputId": "02e39c42-0845-40b2-bfc2-5230c12c0c4f",
        "colab": {
          "base_uri": "https://localhost:8080/"
        }
      },
      "execution_count": 14,
      "outputs": [
        {
          "output_type": "stream",
          "name": "stdout",
          "text": [
            "🔍 Naive Bayes\n",
            "✅ Accuracy: 0.6671\n",
            "              precision    recall  f1-score   support\n",
            "\n",
            "           0       1.00      0.08      0.14     10454\n",
            "           1       1.00      0.07      0.14      5954\n",
            "           2       1.00      0.08      0.15      8528\n",
            "           3       1.00      0.08      0.15     16131\n",
            "           4       0.66      1.00      0.79     72624\n",
            "\n",
            "    accuracy                           0.67    113691\n",
            "   macro avg       0.93      0.26      0.27    113691\n",
            "weighted avg       0.78      0.67      0.56    113691\n",
            "\n"
          ]
        }
      ]
    },
    {
      "cell_type": "markdown",
      "source": [
        "### ⚙️ Support Vector Machine (SVM)\n"
      ],
      "metadata": {
        "id": "bw9rh7Nt-lci"
      }
    },
    {
      "cell_type": "code",
      "source": [
        "from sklearn.svm import LinearSVC\n",
        "svm = LinearSVC()\n",
        "evaluate_model(svm, \"Support Vector Machine\")\n"
      ],
      "metadata": {
        "id": "LYbKesDc-n_I",
        "outputId": "23488e9a-6c8f-4ee1-9f67-0f403c8f926b",
        "colab": {
          "base_uri": "https://localhost:8080/"
        }
      },
      "execution_count": 19,
      "outputs": [
        {
          "output_type": "stream",
          "name": "stdout",
          "text": [
            "🔍 Support Vector Machine\n",
            "✅ Accuracy: 0.6671\n",
            "              precision    recall  f1-score   support\n",
            "\n",
            "           0       1.00      0.08      0.14     10454\n",
            "           1       1.00      0.07      0.14      5954\n",
            "           2       1.00      0.08      0.15      8528\n",
            "           3       1.00      0.08      0.15     16131\n",
            "           4       0.66      1.00      0.79     72624\n",
            "\n",
            "    accuracy                           0.67    113691\n",
            "   macro avg       0.93      0.26      0.27    113691\n",
            "weighted avg       0.78      0.67      0.56    113691\n",
            "\n"
          ]
        }
      ]
    },
    {
      "cell_type": "markdown",
      "source": [
        "### 🌲 Decision Tree"
      ],
      "metadata": {
        "id": "xtC6nd2V_QLt"
      }
    },
    {
      "cell_type": "code",
      "source": [
        "from sklearn.tree import DecisionTreeClassifier\n",
        "dt = DecisionTreeClassifier(random_state=42)\n",
        "evaluate_model(dt, \"Decision Tree\")\n"
      ],
      "metadata": {
        "id": "La9qPAmL_ONj",
        "outputId": "f56a2dcf-7b8d-41da-f008-b4d790cc530a",
        "colab": {
          "base_uri": "https://localhost:8080/"
        }
      },
      "execution_count": 20,
      "outputs": [
        {
          "output_type": "stream",
          "name": "stdout",
          "text": [
            "🔍 Decision Tree\n",
            "✅ Accuracy: 0.6671\n",
            "              precision    recall  f1-score   support\n",
            "\n",
            "           0       1.00      0.08      0.14     10454\n",
            "           1       1.00      0.08      0.14      5954\n",
            "           2       1.00      0.08      0.15      8528\n",
            "           3       1.00      0.08      0.15     16131\n",
            "           4       0.66      1.00      0.79     72624\n",
            "\n",
            "    accuracy                           0.67    113691\n",
            "   macro avg       0.93      0.26      0.27    113691\n",
            "weighted avg       0.78      0.67      0.56    113691\n",
            "\n"
          ]
        }
      ]
    },
    {
      "cell_type": "markdown",
      "source": [
        "### 🌲🌲 Random Forest"
      ],
      "metadata": {
        "id": "SLs9NQA8-0dp"
      }
    },
    {
      "cell_type": "code",
      "source": [
        "from sklearn.ensemble import RandomForestClassifier\n",
        "rf = RandomForestClassifier(n_estimators=100, random_state=42)\n",
        "evaluate_model(rf, \"Random Forest\")\n"
      ],
      "metadata": {
        "id": "1NtCt-9X-ph4",
        "outputId": "939c360f-f9d8-4cc8-b177-8f90c1df0cab",
        "colab": {
          "base_uri": "https://localhost:8080/"
        }
      },
      "execution_count": 21,
      "outputs": [
        {
          "output_type": "stream",
          "name": "stdout",
          "text": [
            "🔍 Random Forest\n",
            "✅ Accuracy: 0.6671\n",
            "              precision    recall  f1-score   support\n",
            "\n",
            "           0       1.00      0.08      0.14     10454\n",
            "           1       1.00      0.07      0.14      5954\n",
            "           2       1.00      0.08      0.15      8528\n",
            "           3       1.00      0.08      0.15     16131\n",
            "           4       0.66      1.00      0.79     72624\n",
            "\n",
            "    accuracy                           0.67    113691\n",
            "   macro avg       0.93      0.26      0.27    113691\n",
            "weighted avg       0.78      0.67      0.56    113691\n",
            "\n"
          ]
        }
      ]
    },
    {
      "cell_type": "markdown",
      "source": [
        "### 🚀 XGBoost"
      ],
      "metadata": {
        "id": "w_O4uVxG-8Cs"
      }
    },
    {
      "cell_type": "code",
      "source": [
        "from xgboost import XGBClassifier\n",
        "xgb = XGBClassifier(use_label_encoder=False, eval_metric='logloss')\n",
        "evaluate_model(xgb, \"XGBoost\")\n"
      ],
      "metadata": {
        "id": "pU6YJHC5-9hz",
        "outputId": "45d19389-48e1-456c-dff7-8447403f21d2",
        "colab": {
          "base_uri": "https://localhost:8080/"
        }
      },
      "execution_count": 35,
      "outputs": [
        {
          "output_type": "stream",
          "name": "stderr",
          "text": [
            "/usr/local/lib/python3.11/dist-packages/xgboost/core.py:158: UserWarning: [18:46:08] WARNING: /workspace/src/learner.cc:740: \n",
            "Parameters: { \"use_label_encoder\" } are not used.\n",
            "\n",
            "  warnings.warn(smsg, UserWarning)\n"
          ]
        },
        {
          "output_type": "stream",
          "name": "stdout",
          "text": [
            "🔍 XGBoost\n",
            "✅ Accuracy: 0.6439\n",
            "              precision    recall  f1-score   support\n",
            "\n",
            "           0       1.00      0.01      0.03     10454\n",
            "           1       1.00      0.04      0.08      5954\n",
            "           2       1.00      0.01      0.02      8528\n",
            "           3       1.00      0.01      0.01     16131\n",
            "           4       0.64      1.00      0.78     72624\n",
            "\n",
            "    accuracy                           0.64    113691\n",
            "   macro avg       0.93      0.21      0.18    113691\n",
            "weighted avg       0.77      0.64      0.51    113691\n",
            "\n"
          ]
        }
      ]
    },
    {
      "cell_type": "markdown",
      "source": [
        "📌 Step 6: Summary & Discussion\n",
        "You’ve now successfully:\n",
        "\n",
        "\n",
        "✅ Loaded and cleaned a real-world text dataset\n",
        "\n",
        "✅ Converted it into a binary sentiment problem\n",
        "\n",
        "✅ Applied TF-IDF vectorization\n",
        "\n",
        "✅ Trained and compared five ML models\n"
      ],
      "metadata": {
        "id": "EDq1CgSs_BGb"
      }
    },
    {
      "cell_type": "markdown",
      "source": [
        "❓ Reflection Questions\n",
        "- Which model gave the best performance? Why?\n",
        "\n",
        "- What would happen if we included Score=3 reviews?\n",
        "\n",
        "- Could you improve performance with hyperparameter tuning or cross-validation?\n",
        "\n",
        "- Try using a larger vocabulary (max_features=10000) and compare!\n",
        "\n"
      ],
      "metadata": {
        "id": "Sw5p_2tR_FBc"
      }
    },
    {
      "cell_type": "markdown",
      "source": [
        "## ⚖️ Optional: Handling Class Imbalance with SMOTE\n",
        "### 💬 Why SMOTE?\n",
        "\n",
        "In multi-class problems, some classes (like reviews with 1⭐ or 5⭐) might have way more or fewer examples. This leads to imbalance — the model might perform worse on rare classes.\n",
        "\n",
        "- SMOTE (Synthetic Minority Over-sampling Technique) helps by:\n",
        "\n",
        "- Generating synthetic samples for underrepresented classes\n",
        "\n",
        "- Making the training dataset more balanced"
      ],
      "metadata": {
        "id": "dpxJqdEA_ody"
      }
    },
    {
      "cell_type": "code",
      "source": [
        "from imblearn.over_sampling import SMOTE\n",
        "import matplotlib.pyplot as plt\n",
        "import seaborn as sns\n",
        "\n",
        "# Apply SMOTE on vectorized training data\n",
        "smote = SMOTE(random_state=42)\n",
        "X_train_smote, y_train_smote = smote.fit_resample(X_train_vec, y_train)\n",
        "\n",
        "print(\"Before SMOTE:\", y_train.value_counts().sort_index().to_dict())\n",
        "print(\"After SMOTE:\", pd.Series(y_train_smote).value_counts().sort_index().to_dict())\n"
      ],
      "metadata": {
        "id": "84ykSkMH_uLQ",
        "outputId": "e015f1f8-6bb4-4cae-de64-75beaabcc628",
        "colab": {
          "base_uri": "https://localhost:8080/"
        }
      },
      "execution_count": 37,
      "outputs": [
        {
          "output_type": "stream",
          "name": "stdout",
          "text": [
            "Before SMOTE: {0: 41814, 1: 23815, 2: 34112, 3: 64524, 4: 290498}\n",
            "After SMOTE: {0: 290498, 1: 290498, 2: 290498, 3: 290498, 4: 290498}\n"
          ]
        }
      ]
    },
    {
      "cell_type": "markdown",
      "source": [
        "### 🔁 Retrain Logistic Regression on Balanced Data\n",
        "\n"
      ],
      "metadata": {
        "id": "l1eYqlFk_2R0"
      }
    },
    {
      "cell_type": "code",
      "source": [
        "from sklearn.metrics import confusion_matrix\n",
        "\n",
        "# Train Logistic Regression on SMOTE-balanced data\n",
        "lr_smote = LogisticRegression(max_iter=1000)\n",
        "lr_smote.fit(X_train_smote, y_train_smote)\n",
        "y_pred_smote = lr_smote.predict(X_test_vec)\n",
        "\n",
        "# Evaluate\n",
        "acc = accuracy_score(y_test, y_pred_smote)\n",
        "print(f\"📈 Logistic Regression with SMOTE — Accuracy: {acc:.4f}\")\n",
        "print(\"Classification Report:\")\n",
        "print(classification_report(y_test, y_pred_smote))\n",
        "\n",
        "# Confusion Matrix\n",
        "cm = confusion_matrix(y_test, y_pred_smote)\n",
        "plt.figure(figsize=(6, 4))\n",
        "sns.heatmap(cm, annot=True, fmt='d', cmap='Greens',\n",
        "            xticklabels=[1,2,3,4,5], yticklabels=[1,2,3,4,5])\n",
        "plt.xlabel('Predicted')\n",
        "plt.ylabel('True')\n",
        "plt.title('Confusion Matrix: Logistic Regression + SMOTE')\n",
        "plt.show()\n"
      ],
      "metadata": {
        "id": "NLs4uB6j_0u-",
        "outputId": "04a89b89-d773-407d-b210-e5ef7ae576d9",
        "colab": {
          "base_uri": "https://localhost:8080/",
          "height": 664
        }
      },
      "execution_count": 38,
      "outputs": [
        {
          "output_type": "stream",
          "name": "stdout",
          "text": [
            "📈 Logistic Regression with SMOTE — Accuracy: 0.6671\n",
            "Classification Report:\n",
            "              precision    recall  f1-score   support\n",
            "\n",
            "           0       1.00      0.08      0.14     10454\n",
            "           1       1.00      0.07      0.14      5954\n",
            "           2       1.00      0.08      0.15      8528\n",
            "           3       0.99      0.08      0.15     16131\n",
            "           4       0.66      1.00      0.79     72624\n",
            "\n",
            "    accuracy                           0.67    113691\n",
            "   macro avg       0.93      0.26      0.27    113691\n",
            "weighted avg       0.78      0.67      0.56    113691\n",
            "\n"
          ]
        },
        {
          "output_type": "display_data",
          "data": {
            "text/plain": [
              "<Figure size 600x400 with 2 Axes>"
            ],
            "image/png": "[encoded data removed]"
          },
          "metadata": {}
        }
      ]
    },
    {
      "cell_type": "markdown",
      "source": [
        "## 🧪 Logistic Regression with Class Weights"
      ],
      "metadata": {
        "id": "GCbyna01AU3j"
      }
    },
    {
      "cell_type": "code",
      "source": [
        "# Initialize Logistic Regression with class_weight='balanced'\n",
        "lr_weighted = LogisticRegression(max_iter=1000, class_weight='balanced')\n",
        "\n",
        "# Train the model\n",
        "lr_weighted.fit(X_train_vec, y_train)\n",
        "y_pred_weighted = lr_weighted.predict(X_test_vec)\n",
        "\n",
        "# Evaluate\n",
        "acc = accuracy_score(y_test, y_pred_weighted)\n",
        "print(f\"📈 Logistic Regression (Balanced Weights) — Accuracy: {acc:.4f}\")\n",
        "print(\"Classification Report:\")\n",
        "print(classification_report(y_test, y_pred_weighted))\n",
        "\n",
        "# Confusion Matrix\n",
        "cm = confusion_matrix(y_test, y_pred_weighted)\n",
        "plt.figure(figsize=(6, 4))\n",
        "sns.heatmap(cm, annot=True, fmt='d', cmap='Purples',\n",
        "            xticklabels=[1, 2, 3, 4, 5], yticklabels=[1, 2, 3, 4, 5])\n",
        "plt.xlabel('Predicted')\n",
        "plt.ylabel('True')\n",
        "plt.title('Confusion Matrix: Logistic Regression with Class Weights')\n",
        "plt.show()\n"
      ],
      "metadata": {
        "id": "IMQ9-TZCAXi6",
        "outputId": "07a3fb11-6994-4109-b2ec-5543bf35d5fb",
        "colab": {
          "base_uri": "https://localhost:8080/",
          "height": 664
        }
      },
      "execution_count": 39,
      "outputs": [
        {
          "output_type": "stream",
          "name": "stdout",
          "text": [
            "📈 Logistic Regression (Balanced Weights) — Accuracy: 0.6671\n",
            "Classification Report:\n",
            "              precision    recall  f1-score   support\n",
            "\n",
            "           0       1.00      0.08      0.14     10454\n",
            "           1       0.99      0.07      0.14      5954\n",
            "           2       1.00      0.08      0.15      8528\n",
            "           3       0.99      0.08      0.15     16131\n",
            "           4       0.66      1.00      0.79     72624\n",
            "\n",
            "    accuracy                           0.67    113691\n",
            "   macro avg       0.93      0.26      0.27    113691\n",
            "weighted avg       0.78      0.67      0.56    113691\n",
            "\n"
          ]
        },
        {
          "output_type": "display_data",
          "data": {
            "text/plain": [
              "<Figure size 600x400 with 2 Axes>"
            ],
            "image/png": "[encoded data removed]"
          },
          "metadata": {}
        }
      ]
    }
  ],
  "metadata": {
    "colab": {
      "provenance": []
    },
    "kernelspec": {
      "display_name": "Python 3",
      "name": "python3"
    }
  },
  "nbformat": 4,
  "nbformat_minor": 0
}