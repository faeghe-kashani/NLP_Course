{
  "nbformat": 4,
  "nbformat_minor": 0,
  "metadata": {
    "colab": {
      "provenance": []
    },
    "kernelspec": {
      "name": "python3",
      "display_name": "Python 3"
    },
    "language_info": {
      "name": "python"
    }
  },
  "cells": [
    {
      "cell_type": "markdown",
      "source": [
        "# 📜 Project: Job Description Analyzer – Extracting Required Skills from Job Postings\n"
      ],
      "metadata": {
        "id": "1y3mR1nVT1zP"
      }
    },
    {
      "cell_type": "markdown",
      "source": [
        "## 📌 Objective\n",
        "Use spaCy’s Named Entity Recognition (NER) and NLTK preprocessing to extract and categorize required skills from job descriptions. The goal is to identify trends in job requirements and analyze the most in-demand skills across industries."
      ],
      "metadata": {
        "id": "JSI2d6TlT67t"
      }
    },
    {
      "cell_type": "markdown",
      "source": [
        "## 🛠️ Project Steps & Instructions\n"
      ],
      "metadata": {
        "id": "bEMWB0ErT-VI"
      }
    },
    {
      "cell_type": "code",
      "source": [
        "#📥 Download the Dataset\n",
        "!wget https://raw.githubusercontent.com/binoydutt/Resume-Job-Description-Matching/refs/heads/master/data.csv"
      ],
      "metadata": {
        "id": "i3ydN6dCU0R4",
        "colab": {
          "base_uri": "https://localhost:8080/"
        },
        "outputId": "9e78213b-159b-4e0d-a056-76cabce59bd4"
      },
      "execution_count": 1,
      "outputs": [
        {
          "output_type": "stream",
          "name": "stdout",
          "text": [
            "--2025-03-11 18:15:51--  https://raw.githubusercontent.com/binoydutt/Resume-Job-Description-Matching/refs/heads/master/data.csv\n",
            "Resolving raw.githubusercontent.com (raw.githubusercontent.com)... 185.199.108.133, 185.199.109.133, 185.199.110.133, ...\n",
            "Connecting to raw.githubusercontent.com (raw.githubusercontent.com)|185.199.108.133|:443... connected.\n",
            "HTTP request sent, awaiting response... 200 OK\n",
            "Length: 646072 (631K) [text/plain]\n",
            "Saving to: ‘data.csv’\n",
            "\n",
            "data.csv            100%[===================>] 630.93K  3.00MB/s    in 0.2s    \n",
            "\n",
            "2025-03-11 18:15:52 (3.00 MB/s) - ‘data.csv’ saved [646072/646072]\n",
            "\n"
          ]
        }
      ]
    },
    {
      "cell_type": "markdown",
      "source": [
        "### Step 1: Load the Dataset\n",
        "#### 📌 Dataset: A provided CSV file containing job descriptions from different industries (IT, Healthcare, Finance, Marketing, etc.).\n",
        "\n",
        "1. Download the dataset (link below).\n",
        "2. Load it into Python using Pandas.\n",
        "3. View the first few rows to understand its structure."
      ],
      "metadata": {
        "id": "OSp39kGdUDZp"
      }
    },
    {
      "cell_type": "code",
      "execution_count": 4,
      "metadata": {
        "id": "Ujju9awITxuH",
        "colab": {
          "base_uri": "https://localhost:8080/"
        },
        "outputId": "d9a8f9d5-4f2d-49ac-8694-a6087afeb5ff"
      },
      "outputs": [
        {
          "output_type": "stream",
          "name": "stdout",
          "text": [
            "First few rows of the dataset:\n",
            "   Unnamed: 0                          company  \\\n",
            "0           1          Visual BI Solutions Inc   \n",
            "1           2                       Jobvertise   \n",
            "2           3           Santander Consumer USA   \n",
            "3           4   Federal Reserve Bank of Dallas   \n",
            "4           5                           Aviall   \n",
            "\n",
            "                                            position  \\\n",
            "0  Graduate Intern (Summer 2017) - SAP BI / Big D...   \n",
            "1                          Digital Marketing Manager   \n",
            "2    Manager, Pricing Management Information Systems   \n",
            "3               Treasury Services Analyst Internship   \n",
            "4                              Intern, Sales Analyst   \n",
            "\n",
            "                                                 url     location  \\\n",
            "0  https://www.glassdoor.com/partner/jobListing.h...    Plano, TX   \n",
            "1  https://www.glassdoor.com/partner/jobListing.h...   Dallas, TX   \n",
            "2  https://www.glassdoor.com/partner/jobListing.h...   Dallas, TX   \n",
            "3  https://www.glassdoor.com/partner/jobListing.h...   Dallas, TX   \n",
            "4  https://www.glassdoor.com/partner/jobListing.h...   Dallas, TX   \n",
            "\n",
            "       headquaters                employees founded  \\\n",
            "0        Plano, TX      51 to 200 employees    2010   \n",
            "1  Berlin, Germany        1 to 50 employees    2011   \n",
            "2       Dallas, TX  5001 to 10000 employees    1995   \n",
            "3       Dallas, TX   1001 to 5000 employees    1914   \n",
            "4       Dallas, TX   1001 to 5000 employees  Boeing   \n",
            "\n",
            "                         industry  \\\n",
            "0          Information Technology   \n",
            "1                         Unknown   \n",
            "2                         Finance   \n",
            "3                         Finance   \n",
            "4  Subsidiary or Business Segment   \n",
            "\n",
            "                                     Job Description  \n",
            "0   Location: Plano, TX or Oklahoma City, OK Dura...  \n",
            "1   The Digital Marketing Manager is the front li...  \n",
            "2   Summary of Responsibilities:The Manager Prici...  \n",
            "3   ORGANIZATIONAL SUMMARY:   As part of the nati...  \n",
            "4     Aviall is the world's largest provider of n...  \n",
            "(157, 10)\n"
          ]
        }
      ],
      "source": [
        "# your code here\n",
        "import pandas as pd\n",
        "\n",
        "# Load the dataset into a Pandas DataFrame\n",
        "df = pd.read_csv('data.csv')\n",
        "\n",
        "# View the first few rows of the dataset\n",
        "print(\"First few rows of the dataset:\")\n",
        "print(df.head())\n",
        "print(df.shape)"
      ]
    },
    {
      "cell_type": "markdown",
      "source": [
        "### Step 2: Preprocessing the Job Descriptions\n",
        "#### 📌 Goal: Clean the text by removing stopwords, punctuation, and unnecessary characters.\n",
        "\n",
        "1. Use NLTK to tokenize the descriptions.\n",
        "2. Remove stopwords and special characters.\n",
        "3. Convert text to lowercase for consistency."
      ],
      "metadata": {
        "id": "jP9XyZzeULkK"
      }
    },
    {
      "cell_type": "code",
      "source": [
        "# your code here\n",
        "\n",
        "# Import necessary libraries\n",
        "import nltk\n",
        "nltk.download('punkt_tab')\n",
        "from nltk.corpus import stopwords\n",
        "from nltk.tokenize import word_tokenize\n",
        "import string\n",
        "\n",
        "# Download NLTK resources (if not already downloaded)\n",
        "nltk.download('punkt')\n",
        "nltk.download('stopwords')\n",
        "\n",
        "# Define a function to preprocess text\n",
        "def preprocess_text(text):\n",
        "    # Convert text to lowercase\n",
        "    text = text.lower()\n",
        "\n",
        "    # Tokenize the text into words\n",
        "    words = word_tokenize(text)\n",
        "\n",
        "    # Remove punctuation and special characters\n",
        "    words = [word for word in words if word.isalnum()]\n",
        "\n",
        "    # Remove stopwords\n",
        "    stop_words = set(stopwords.words('english'))\n",
        "    words = [word for word in words if word not in stop_words]\n",
        "\n",
        "    # Join the cleaned words back into a single string\n",
        "    cleaned_text = ' '.join(words)\n",
        "\n",
        "    return cleaned_text\n",
        "\n",
        "# Apply preprocessing to the 'Job_Description' column\n",
        "df['Cleaned_Job_Description'] = df['Job Description'].apply(preprocess_text)\n",
        "\n",
        "# View the first few rows of the cleaned job descriptions\n",
        "print(\"First few rows of cleaned job descriptions:\")\n",
        "print(df[['Job Description', 'Cleaned_Job_Description']].head())"
      ],
      "metadata": {
        "id": "IgUGbR5nUKJ4",
        "colab": {
          "base_uri": "https://localhost:8080/"
        },
        "outputId": "ffd134cc-3b82-4797-aa58-9d292ad336ab"
      },
      "execution_count": 8,
      "outputs": [
        {
          "output_type": "stream",
          "name": "stderr",
          "text": [
            "[nltk_data] Downloading package punkt_tab to /root/nltk_data...\n",
            "[nltk_data]   Package punkt_tab is already up-to-date!\n",
            "[nltk_data] Downloading package punkt to /root/nltk_data...\n",
            "[nltk_data]   Package punkt is already up-to-date!\n",
            "[nltk_data] Downloading package stopwords to /root/nltk_data...\n",
            "[nltk_data]   Package stopwords is already up-to-date!\n"
          ]
        },
        {
          "output_type": "stream",
          "name": "stdout",
          "text": [
            "First few rows of cleaned job descriptions:\n",
            "                                     Job Description  \\\n",
            "0   Location: Plano, TX or Oklahoma City, OK Dura...   \n",
            "1   The Digital Marketing Manager is the front li...   \n",
            "2   Summary of Responsibilities:The Manager Prici...   \n",
            "3   ORGANIZATIONAL SUMMARY:   As part of the nati...   \n",
            "4     Aviall is the world's largest provider of n...   \n",
            "\n",
            "                             Cleaned_Job_Description  \n",
            "0  location plano tx oklahoma city ok duration in...  \n",
            "1  digital marketing manager front line patient c...  \n",
            "2  summary responsibilities manager pricing mis r...  \n",
            "3  organizational summary part nation central ban...  \n",
            "4  aviall world largest provider new aviation par...  \n"
          ]
        }
      ]
    },
    {
      "cell_type": "markdown",
      "source": [
        "### Step 3: Extract Skills Using Named Entity Recognition (NER)\n",
        "#### 📌 Goal: Use spaCy’s built-in NER to detect and extract skills from job descriptions.\n",
        "\n",
        "1. Load spaCy’s English model.\n",
        "2. Use NER to identify important keywords.\n",
        "3. Extract words related to technical skills, tools, and expertise."
      ],
      "metadata": {
        "id": "rttovi6vUVX0"
      }
    },
    {
      "cell_type": "code",
      "source": [
        "# your code here\n",
        "\n",
        "# Import necessary libraries\n",
        "import spacy\n",
        "\n",
        "# Load spaCy's English model\n",
        "nlp = spacy.load(\"en_core_web_sm\")\n",
        "\n",
        "# Define a function to extract skills using spaCy's NER\n",
        "def extract_skills(text):\n",
        "    # Process the text using spaCy\n",
        "    doc = nlp(text)\n",
        "\n",
        "    # Extract entities that are likely to be skills\n",
        "    skills = []\n",
        "    for ent in doc.ents:\n",
        "        if ent.label_ in [\"ORG\", \"PRODUCT\", \"TECH\"]:  # Filter for relevant entity labels\n",
        "            skills.append(ent.text)\n",
        "\n",
        "    return skills\n",
        "\n",
        "# Apply the function to the cleaned job descriptions\n",
        "df['Extracted_Skills'] = df['Cleaned_Job_Description'].apply(extract_skills)\n",
        "\n",
        "# View the first few rows with extracted skills\n",
        "print(\"First few rows with extracted skills:\")\n",
        "print(df[['Cleaned_Job_Description', 'Extracted_Skills']].head())"
      ],
      "metadata": {
        "id": "d31wh2yDUT9Y",
        "colab": {
          "base_uri": "https://localhost:8080/"
        },
        "outputId": "a3fc73bc-0fbb-4ea4-d1ed-3145be49f89c"
      },
      "execution_count": 9,
      "outputs": [
        {
          "output_type": "stream",
          "name": "stdout",
          "text": [
            "First few rows with extracted skills:\n",
            "                             Cleaned_Job_Description  \\\n",
            "0  location plano tx oklahoma city ok duration in...   \n",
            "1  digital marketing manager front line patient c...   \n",
            "2  summary responsibilities manager pricing mis r...   \n",
            "3  organizational summary part nation central ban...   \n",
            "4  aviall world largest provider new aviation par...   \n",
            "\n",
            "                                    Extracted_Skills  \n",
            "0          [gpa scores, hone bi analytics expertise]  \n",
            "1                                          [digital]  \n",
            "2                                              [sas]  \n",
            "3  [central bank federal reserve bank, federal re...  \n",
            "4                                                 []  \n"
          ]
        }
      ]
    },
    {
      "cell_type": "markdown",
      "source": [
        "### Step 4: Identify the Most In-Demand Skills\n",
        "#### 📌 Goal: Count the most frequently mentioned skills in job descriptions.\n",
        "\n",
        "1. Create a word frequency distribution of extracted skills.\n",
        "2. Identify the top 10 most required skills."
      ],
      "metadata": {
        "id": "TizfP0pyUanq"
      }
    },
    {
      "cell_type": "code",
      "source": [
        "# your code here\n",
        "\n",
        "# Import necessary libraries\n",
        "from nltk.probability import FreqDist\n",
        "\n",
        "# Combine all extracted skills into a single list\n",
        "all_skills = [skill for sublist in df['Extracted_Skills'] for skill in sublist]\n",
        "\n",
        "# Create a frequency distribution of skills using NLTK's FreqDist\n",
        "skill_freq = FreqDist(all_skills)\n",
        "\n",
        "# Get the top 10 most frequently mentioned skills\n",
        "top_10_skills = skill_freq.most_common(10)\n",
        "\n",
        "# Print the top 10 skills\n",
        "print(\"Top 10 Most In-Demand Skills:\")\n",
        "for skill, freq in top_10_skills:\n",
        "    print(f\"{skill}: {freq} occurrences\")"
      ],
      "metadata": {
        "id": "9SLRxwryUm4g",
        "colab": {
          "base_uri": "https://localhost:8080/"
        },
        "outputId": "e91b5a3a-d9e2-49fd-c1b1-7f21640e543f"
      },
      "execution_count": 10,
      "outputs": [
        {
          "output_type": "stream",
          "name": "stdout",
          "text": [
            "Top 10 Most In-Demand Skills:\n",
            "microsoft: 83 occurrences\n",
            "ibm: 31 occurrences\n",
            "gpa: 12 occurrences\n",
            "phoenix house: 10 occurrences\n",
            "deloitte university: 6 occurrences\n",
            "deloitte consulting llp: 6 occurrences\n",
            "grant thornton international ltd one: 6 occurrences\n",
            "sas: 5 occurrences\n",
            "central bank federal reserve bank: 4 occurrences\n",
            "sql: 4 occurrences\n"
          ]
        }
      ]
    },
    {
      "cell_type": "markdown",
      "source": [
        "### Step 5: Categorize Skills by Industry\n",
        "#### 📌 Goal: Compare the most in-demand skills across different industries.\n",
        "\n",
        "1. Group job descriptions by industry.\n",
        "2. Extract and analyze skills for each industry.\n",
        "3. Compare IT vs. Marketing vs. Healthcare, etc.."
      ],
      "metadata": {
        "id": "3v8W0pneUoku"
      }
    },
    {
      "cell_type": "code",
      "source": [
        "# your code here\n",
        "\n",
        "# Import necessary libraries\n",
        "from collections import defaultdict\n",
        "\n",
        "# Group job descriptions by industry\n",
        "industry_skills = defaultdict(list)\n",
        "\n",
        "# Iterate through the DataFrame and group skills by industry\n",
        "for index, row in df.iterrows():\n",
        "    industry = row['industry']\n",
        "    skills = row['Extracted_Skills']\n",
        "    industry_skills[industry].extend(skills)\n",
        "\n",
        "# Analyze the most in-demand skills for each industry\n",
        "for industry, skills in industry_skills.items():\n",
        "    # Create a frequency distribution of skills for the industry\n",
        "    skill_freq = FreqDist(skills)\n",
        "\n",
        "    # Get the top 10 most frequently mentioned skills for the industry\n",
        "    top_10_skills = skill_freq.most_common(10)\n",
        "\n",
        "    # Print the results\n",
        "    print(f\"\\nTop 10 Most In-Demand Skills in {industry}:\")\n",
        "    for skill, freq in top_10_skills:\n",
        "        print(f\"{skill}: {freq} occurrences\")"
      ],
      "metadata": {
        "id": "HzZmaKoyUsSX",
        "colab": {
          "base_uri": "https://localhost:8080/"
        },
        "outputId": "8c1bee78-60dc-4749-d9ab-186f92553da8"
      },
      "execution_count": 12,
      "outputs": [
        {
          "output_type": "stream",
          "name": "stdout",
          "text": [
            "\n",
            "Top 10 Most In-Demand Skills in Information Technology:\n",
            "microsoft: 19 occurrences\n",
            "microsoft power bi tableau similar platforms ideal: 2 occurrences\n",
            "microsoft power: 2 occurrences\n",
            "sap academy: 2 occurrences\n",
            "sap academy presales sap presales academy: 2 occurrences\n",
            "iot logistics supply chain: 2 occurrences\n",
            "metadata: 2 occurrences\n",
            "gpa scores: 1 occurrences\n",
            "hone bi analytics expertise: 1 occurrences\n",
            "ge: 1 occurrences\n",
            "\n",
            "Top 10 Most In-Demand Skills in Unknown:\n",
            "microsoft: 3 occurrences\n",
            "digital: 1 occurrences\n",
            "google: 1 occurrences\n",
            "401k: 1 occurrences\n",
            "metadata: 1 occurrences\n",
            "treasury: 1 occurrences\n",
            "agile development environment: 1 occurrences\n",
            "\n",
            "Top 10 Most In-Demand Skills in Finance:\n",
            "microsoft: 6 occurrences\n",
            "central bank federal reserve bank: 4 occurrences\n",
            "federal reserve bank: 3 occurrences\n",
            "dallas treasury services: 3 occurrences\n",
            "new york stock exchange: 3 occurrences\n",
            "yardi erp: 2 occurrences\n",
            "sas: 1 occurrences\n",
            "ibm: 1 occurrences\n",
            "meta data: 1 occurrences\n",
            "texasdata: 1 occurrences\n",
            "\n",
            "Top 10 Most In-Demand Skills in Subsidiary or Business Segment:\n",
            "microsoft: 6 occurrences\n",
            "gpa education college coursework: 2 occurrences\n",
            "\n",
            "Top 10 Most In-Demand Skills in Business Services:\n",
            "ibm: 30 occurrences\n",
            "microsoft: 10 occurrences\n",
            "gpa: 3 occurrences\n",
            "austin: 2 occurrences\n",
            "air los angeles: 2 occurrences\n",
            "eit: 2 occurrences\n",
            "dmv: 2 occurrences\n",
            "epsilonmktg alliance: 2 occurrences\n",
            "us canada: 1 occurrences\n",
            "bloomberg capital iq research tools plus: 1 occurrences\n",
            "\n",
            "Top 10 Most In-Demand Skills in Accounting & Legal:\n",
            "microsoft: 7 occurrences\n",
            "deloitte university: 6 occurrences\n",
            "grant thornton international ltd one: 6 occurrences\n",
            "deloitte consulting llp: 5 occurrences\n",
            "deloitte: 3 occurrences\n",
            "deloitte touche: 2 occurrences\n",
            "irs: 2 occurrences\n",
            "ras practice: 1 occurrences\n",
            "cia: 1 occurrences\n",
            "sql data: 1 occurrences\n",
            "\n",
            "Top 10 Most In-Demand Skills in Health Care:\n",
            "phoenix house: 10 occurrences\n",
            "microsoft: 4 occurrences\n",
            "texas phoenix house: 1 occurrences\n",
            "working mentor: 1 occurrences\n",
            "\n",
            "Top 10 Most In-Demand Skills in Media:\n",
            "microsoft: 11 occurrences\n",
            "digital: 1 occurrences\n",
            "sql: 1 occurrences\n",
            "\n",
            "Top 10 Most In-Demand Skills in nan:\n",
            "microsoft: 1 occurrences\n",
            "google: 1 occurrences\n",
            "401k: 1 occurrences\n",
            "deloitte consulting llp one: 1 occurrences\n",
            "deloitte consulting: 1 occurrences\n",
            "deloitte consulting llp: 1 occurrences\n",
            "\n",
            "Top 10 Most In-Demand Skills in Non-Profit:\n",
            "intern research development tracking code job description: 1 occurrences\n",
            "american heart association american stroke association: 1 occurrences\n",
            "healthcare: 1 occurrences\n",
            "healthcare american heart association make: 1 occurrences\n",
            "\n",
            "Top 10 Most In-Demand Skills in Arts, Entertainment & Recreation:\n",
            "penney: 4 occurrences\n",
            "microsoft: 4 occurrences\n",
            "digital technologies desktop mobile tablet: 2 occurrences\n",
            "gpa: 2 occurrences\n",
            "\n",
            "Top 10 Most In-Demand Skills in $500 million to $1 billion (USD) per year:\n",
            "sql: 2 occurrences\n",
            "sas: 2 occurrences\n",
            "\n",
            "Top 10 Most In-Demand Skills in Manufacturing:\n",
            "microsoft: 4 occurrences\n",
            "assist ag turf department special projects research compiling: 2 occurrences\n",
            "gpa: 1 occurrences\n",
            "\n",
            "Top 10 Most In-Demand Skills in Travel & Tourism:\n",
            "microsoft: 1 occurrences\n",
            "\n",
            "Top 10 Most In-Demand Skills in Insurance:\n",
            "blue shield: 4 occurrences\n",
            "illinois montana: 4 occurrences\n",
            "gpa: 4 occurrences\n",
            "blue cross: 2 occurrences\n",
            "sas: 2 occurrences\n",
            "microsoft: 2 occurrences\n",
            "\n",
            "Top 10 Most In-Demand Skills in Aerospace & Defense:\n",
            "northrop: 1 occurrences\n",
            "c4isr logistics modernization: 1 occurrences\n",
            "spss: 1 occurrences\n",
            "matlab: 1 occurrences\n",
            "sql: 1 occurrences\n",
            "\n",
            "Top 10 Most In-Demand Skills in Unknown / Non-Applicable per year:\n",
            "google analytics: 1 occurrences\n",
            "microsoft visio prototype: 1 occurrences\n",
            "\n",
            "Top 10 Most In-Demand Skills in Retail:\n",
            "digital marketing coordinator: 1 occurrences\n",
            "volvo: 1 occurrences\n",
            "ford: 1 occurrences\n",
            "digital internship penney company: 1 occurrences\n",
            "digital technologies desktop mobile tablet: 1 occurrences\n",
            "gpa: 1 occurrences\n",
            "\n",
            "Top 10 Most In-Demand Skills in Real Estate:\n",
            "jll: 1 occurrences\n",
            "microsoft: 1 occurrences\n",
            "\n",
            "Top 10 Most In-Demand Skills in Transportation & Logistics:\n",
            "north texas: 3 occurrences\n",
            "microsoft: 2 occurrences\n",
            "description2017: 1 occurrences\n",
            "gpa highermust: 1 occurrences\n",
            "\n",
            "Top 10 Most In-Demand Skills in Company - Public:\n",
            "gm: 3 occurrences\n",
            "\n",
            "Top 10 Most In-Demand Skills in Mining & Metals:\n",
            "chicago illinois lafargeholcim: 1 occurrences\n",
            "habitat council: 1 occurrences\n",
            "microsoft: 1 occurrences\n",
            "\n",
            "Top 10 Most In-Demand Skills in Construction, Repair & Maintenance:\n",
            "purposewe: 1 occurrences\n",
            "chicago illinois lafargeholcim: 1 occurrences\n",
            "habitat council: 1 occurrences\n",
            "microsoft: 1 occurrences\n"
          ]
        }
      ]
    }
  ]
}