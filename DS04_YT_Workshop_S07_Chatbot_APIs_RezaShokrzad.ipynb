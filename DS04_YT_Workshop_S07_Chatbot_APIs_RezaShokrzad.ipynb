{
  "nbformat": 4,
  "nbformat_minor": 0,
  "metadata": {
    "colab": {
      "provenance": []
    },
    "kernelspec": {
      "name": "python3",
      "display_name": "Python 3"
    },
    "language_info": {
      "name": "python"
    }
  },
  "cells": [
    {
      "cell_type": "markdown",
      "source": [
        "# 🧠 Building a Terminal-Based AI Assistant with OpenAI GPT-4.1 API\n",
        "\n",
        "\n",
        "\n",
        "\n",
        "\n",
        "\n"
      ],
      "metadata": {
        "id": "FssUuGBS34Gy"
      }
    },
    {
      "cell_type": "markdown",
      "source": [
        "## ✨ Script: Call GPT-4.1 Responses API from Python\n",
        "This script uses OpenAI’s `responses` API (a lightweight interface for instruction-based completions) to generate creative text from a prompt.\n",
        "\n",
        "## 🧠 What It Does\n",
        "* Authenticates with OpenAI using an API key 🔐\n",
        "\n",
        "* Sends an input prompt and system instruction to GPT-4.1\n",
        "\n",
        "* Controls creativity and output length using parameters\n",
        "\n",
        "* Prints the AI's response in your terminal 💬"
      ],
      "metadata": {
        "id": "uhgMd7AD38K9"
      }
    },
    {
      "cell_type": "code",
      "execution_count": null,
      "metadata": {
        "id": "jx0OungD1_HL"
      },
      "outputs": [],
      "source": [
        "from openai import OpenAI\n",
        "\n",
        "client = OpenAI(api_key = \"your_own_api_key\")\n",
        "\n",
        "response = client.responses.create(\n",
        "    model=\"gpt-4.1\",\n",
        "    instructions=\"You are a helpful assistant specialized in creative writing.\",\n",
        "    input=\"Write a one-sentence bedtime story about a unicorn.\",\n",
        "    temperature=0.7,              # Controls randomness (0–1)\n",
        "    max_output_tokens=500,               # Limits response length\n",
        "    top_p=0.8,                    # Nucleus sampling threshold\n",
        "    # frequency_penalty=1.0,        # Penalize token repetition\n",
        "    # presence_penalty=0.5,         # Penalize re-using input tokens\n",
        "    # n=1,                          # Number of completions to generate\n",
        "    # best_of=3,                    # Generate multiple and return best\n",
        "    # stop=[\"THE END\", \"###\"],      # Sequences where generation stops\n",
        "    user=\"user_12345\"             # User identifier for tracking\n",
        ")\n",
        "\n",
        "print(response.output_text)\n",
        "\n"
      ]
    },
    {
      "cell_type": "markdown",
      "source": [
        "## What is argparse in Python?: a quick guidance\n",
        "\n",
        "### 📝 Script Overview: Repeat a Phrase from CLI\n",
        "This Python script takes two command-line arguments:\n",
        "\n",
        "1. A phrase (string) to repeat.\n",
        "\n",
        "2. A times (integer) count for how many times to repeat it.\n",
        "\n",
        "It then prints the phrase that number of times."
      ],
      "metadata": {
        "id": "bZXAI1kQ2pEI"
      }
    },
    {
      "cell_type": "code",
      "source": [
        "import argparse  # Import the argparse module for parsing command-line arguments\n",
        "\n",
        "# Create a parser object with a description\n",
        "parser = argparse.ArgumentParser(description=\"Repeat a phrase a given number of times.\")\n",
        "\n",
        "# Add a required positional argument 'phrase'\n",
        "parser.add_argument(\"phrase\", help=\"The phrase to repeat\")\n",
        "\n",
        "# Add a required positional argument 'times', and convert it to int\n",
        "parser.add_argument(\"times\", type=int, help=\"How many times to repeat it\")\n",
        "\n",
        "# Parse the arguments provided by the user at the command line\n",
        "args = parser.parse_args()\n",
        "\n",
        "# Loop 'times' times and print the phrase each time\n",
        "for _ in range(args.times):\n",
        "    print(args.phrase)\n",
        "\n"
      ],
      "metadata": {
        "id": "o-qdJ0Bl2IAt"
      },
      "execution_count": null,
      "outputs": []
    },
    {
      "cell_type": "markdown",
      "source": [
        "## 🚀 CLI Prompt-to-GPT Script – User Guide\n",
        "This script allows you to interact with OpenAI's GPT-4.1 model directly from your terminal by either:\n",
        "\n",
        "* Typing a prompt as a command-line argument, or\n",
        "\n",
        "* Letting the script ask you for input interactively.\n",
        "\n",
        "### **📦 What It Does**\n",
        "* ✅ Accepts user input (prompt) via CLI or terminal\n",
        "\n",
        "* 🧠 Sends that prompt to the GPT-4.1 model\n",
        "\n",
        "* 📤 Receives and prints the model's generated response\n",
        "\n",
        "### **🛠 How to Use**\n",
        "\n",
        "*Command-line prompt:*\n",
        "\n",
        "`python chat_cli.py \"Tell me a fun fact about space.\"`\n",
        "\n",
        "*Interactive prompt (if no argument given):*\n",
        "\n",
        "`python chat_cli.py`\n",
        "\n",
        "`Enter your prompt: What’s a good startup idea in 2025?`"
      ],
      "metadata": {
        "id": "GSqV-Iko3ETW"
      }
    },
    {
      "cell_type": "code",
      "source": [
        "from openai import OpenAI\n",
        "import argparse\n",
        "\n",
        "def get_prompt():\n",
        "    parser = argparse.ArgumentParser(\n",
        "        description=\"Call OpenAI Responses API with a prompt\"\n",
        "    )\n",
        "    parser.add_argument(\n",
        "        \"prompt\", nargs=\"*\",\n",
        "        help=\"The prompt to send to the model\"\n",
        "    )\n",
        "    args = parser.parse_args()\n",
        "    if args.prompt:\n",
        "        return \" \".join(args.prompt)\n",
        "    # Fallback to interactive input if no CLI arg given\n",
        "    return input(\"Enter your prompt: \")\n",
        "\n",
        "def main():\n",
        "    prompt_text = get_prompt()\n",
        "    client = OpenAI(api_key = \"your_own_api_key\")\n",
        "    response = client.responses.create(\n",
        "        model=\"gpt-4.1\",\n",
        "        instructions=\"You are a helpful assistant.\",\n",
        "        input=prompt_text\n",
        "    )\n",
        "    print(response.output_text)\n",
        "\n",
        "if __name__ == \"__main__\":\n",
        "    main()"
      ],
      "metadata": {
        "id": "cOukafrb2NHi"
      },
      "execution_count": null,
      "outputs": []
    }
  ]
}