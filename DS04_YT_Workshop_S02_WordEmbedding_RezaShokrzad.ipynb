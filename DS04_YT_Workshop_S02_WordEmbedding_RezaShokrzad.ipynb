{
  "cells": [
    {
      "cell_type": "markdown",
      "source": [
        "## tf/idf"
      ],
      "metadata": {
        "id": "qDtMvG_b4Ir_"
      }
    },
    {
      "cell_type": "code",
      "execution_count": null,
      "metadata": {
        "id": "OmzTTTMz4G_e",
        "outputId": "9a0b1d80-d6ea-49f2-e3e5-cb8e538a2e45"
      },
      "outputs": [
        {
          "name": "stderr",
          "output_type": "stream",
          "text": [
            "[nltk_data] Downloading package punkt to\n",
            "[nltk_data]     C:\\Users\\rezas\\AppData\\Roaming\\nltk_data...\n",
            "[nltk_data]   Package punkt is already up-to-date!\n",
            "[nltk_data] Downloading package omw-1.4 to\n",
            "[nltk_data]     C:\\Users\\rezas\\AppData\\Roaming\\nltk_data...\n",
            "[nltk_data]   Package omw-1.4 is already up-to-date!\n",
            "[nltk_data] Downloading package wordnet to\n",
            "[nltk_data]     C:\\Users\\rezas\\AppData\\Roaming\\nltk_data...\n",
            "[nltk_data]   Package wordnet is already up-to-date!\n",
            "[nltk_data] Downloading package stopwords to\n",
            "[nltk_data]     C:\\Users\\rezas\\AppData\\Roaming\\nltk_data...\n",
            "[nltk_data]   Package stopwords is already up-to-date!\n"
          ]
        },
        {
          "data": {
            "text/plain": [
              "True"
            ]
          },
          "execution_count": 45,
          "metadata": {},
          "output_type": "execute_result"
        }
      ],
      "source": [
        "# general libraries\n",
        "import re\n",
        "import numpy as np\n",
        "import pandas as pd\n",
        "from tqdm import tqdm\n",
        "tqdm.pandas()\n",
        "from scipy import spatial\n",
        "\n",
        "# prevent warning\n",
        "import warnings\n",
        "warnings.filterwarnings('ignore')\n",
        "\n",
        "# visualization libraries\n",
        "import seaborn as sns\n",
        "import matplotlib.pyplot as plt\n",
        "\n",
        "# dimensionality reduction libraries\n",
        "from sklearn.decomposition import PCA\n",
        "from sklearn.manifold import TSNE\n",
        "# ML models and metrics\n",
        "from sklearn.cluster import KMeans\n",
        "\n",
        "\n",
        "# nlp libraries\n",
        "import nltk\n",
        "nltk.download('punkt')\n",
        "nltk.download('omw-1.4')\n",
        "nltk.download(\"wordnet\")\n",
        "nltk.download('stopwords')\n",
        "\n",
        "\n"
      ]
    },
    {
      "cell_type": "markdown",
      "source": [
        "## GloVe"
      ],
      "metadata": {
        "id": "BQuYkCsW4OR0"
      }
    },
    {
      "cell_type": "code",
      "execution_count": null,
      "metadata": {
        "id": "PJrwwh524G_g",
        "outputId": "78c91bb6-bf2b-4582-c49d-360a4ed80115"
      },
      "outputs": [
        {
          "data": {
            "text/plain": [
              "('c:\\\\Users\\\\rezas\\\\OneDrive\\\\Desktop\\\\WE\\\\glove.42B.300d.zip',\n",
              " <http.client.HTTPMessage at 0x19844b991d0>)"
            ]
          },
          "execution_count": 2,
          "metadata": {},
          "output_type": "execute_result"
        }
      ],
      "source": [
        "# Download glove Embedding\n",
        "import urllib.request\n",
        "import os\n",
        "\n",
        "url = 'https://huggingface.co/stanfordnlp/glove/resolve/main/glove.6B.zip'\n",
        "output = os.path.join(os.getcwd(), 'glove.6B.zip')  # Save to the current working directory\n",
        "\n",
        "urllib.request.urlretrieve(url, output)\n"
      ]
    },
    {
      "cell_type": "code",
      "execution_count": null,
      "metadata": {
        "id": "AQeh-nxt4G_h"
      },
      "outputs": [],
      "source": [
        "import zipfile\n",
        "\n",
        "# Unzip the file\n",
        "with zipfile.ZipFile('./glove.6B.zip', 'r') as zip_ref:\n",
        "    zip_ref.extractall('./glove')"
      ]
    },
    {
      "cell_type": "code",
      "execution_count": null,
      "metadata": {
        "id": "84ZhmLi24G_h"
      },
      "outputs": [],
      "source": [
        "with open('./glove/glove.6B.300d.txt', encoding='utf-8') as f:\n",
        "    glove_embedding = {}\n",
        "    for line in f:\n",
        "        values = line.split()\n",
        "        word = values[0]\n",
        "        vec = np.asarray(values[1:], dtype=\"float32\")\n",
        "        glove_embedding[word] = vec\n",
        "    f.close()\n",
        "\n"
      ]
    },
    {
      "cell_type": "code",
      "execution_count": null,
      "metadata": {
        "id": "3puOHlh44G_h",
        "outputId": "83e62937-369d-40fe-df14-f247b5324f6b"
      },
      "outputs": [
        {
          "data": {
            "text/plain": [
              "2060"
            ]
          },
          "execution_count": 36,
          "metadata": {},
          "output_type": "execute_result"
        }
      ],
      "source": [
        "list(glove_embedding.keys()).index(\"queen\")"
      ]
    },
    {
      "cell_type": "code",
      "execution_count": null,
      "metadata": {
        "id": "kysDF5A34G_h",
        "outputId": "0a8daf93-a874-41ba-d031-7ccdb738d90a"
      },
      "outputs": [
        {
          "data": {
            "text/plain": [
              "array([-0.29784  , -0.13255  , -0.14505  , -0.22752  , -0.027429 ,\n",
              "        0.11005  , -0.039245 , -0.0089607, -0.18866  , -1.1213   ,\n",
              "        0.34793  , -0.30056  , -0.50103  , -0.031383 , -0.032185 ,\n",
              "        0.018318 , -0.090429 , -0.14427  , -0.14306  , -0.057477 ,\n",
              "       -0.020931 ,  0.56276  , -0.018557 ,  0.15168  , -0.25586  ,\n",
              "       -0.081564 ,  0.2803   , -0.10585  , -0.16777  ,  0.21814  ,\n",
              "       -0.11845  ,  0.56475  , -0.12645  , -0.062461 , -0.68043  ,\n",
              "        0.10507  ,  0.24793  , -0.20249  , -0.30726  ,  0.42815  ,\n",
              "        0.38378  , -0.19371  , -0.075951 , -0.058287 , -0.067195 ,\n",
              "        0.2192   ,  0.56116  , -0.28156  , -0.13705  ,  0.45754  ,\n",
              "       -0.14671  , -0.18562  , -0.074146 ,  0.60737  ,  0.07952  ,\n",
              "        0.41023  ,  0.18377  , -0.08532  ,  0.43795  , -0.34727  ,\n",
              "        0.2077   ,  0.50454  ,  0.40244  ,  0.1095   , -0.48078  ,\n",
              "       -0.22372  , -0.54619  , -0.20782  ,  0.13751  , -0.16206  ,\n",
              "       -0.24835  ,  0.17124  ,  0.037355 ,  0.14547  , -0.056205 ,\n",
              "        0.2644   , -0.38029  ,  0.0029947,  0.051608 ,  0.21807  ,\n",
              "       -0.071087 ,  0.31543  ,  0.24593  ,  0.34444  , -0.36354  ,\n",
              "       -0.12137  , -0.013511 ,  0.049564 ,  0.031386 ,  0.10316  ,\n",
              "       -0.44301  ,  0.11663  , -0.055576 , -0.091434 , -0.070799 ,\n",
              "       -0.017031 ,  0.046024 ,  0.096063 ,  0.10148  , -0.33467  ,\n",
              "       -0.043516 ,  0.38271  ,  0.018411 ,  0.0049479,  0.35587  ,\n",
              "        0.40432  ,  0.4823   ,  0.12416  , -0.051926 , -0.081769 ,\n",
              "       -0.21542  ,  0.71766  , -0.0052553, -0.55428  ,  0.68033  ,\n",
              "        0.20255  , -0.19927  , -0.11563  ,  0.0030103, -0.74399  ,\n",
              "       -0.21086  ,  0.069584 , -0.20315  , -0.17027  , -0.11292  ,\n",
              "       -0.044594 , -0.2145   ,  0.26097  ,  0.36969  , -0.65155  ,\n",
              "        0.048649 ,  0.044304 , -0.26604  ,  0.23976  , -0.38281  ,\n",
              "       -0.02353  , -0.020519 , -0.52202  , -0.30595  ,  0.088525 ,\n",
              "        0.28395  ,  0.15056  ,  0.23202  ,  0.30538  , -0.53674  ,\n",
              "        0.21362  ,  0.10999  ,  0.4685   , -0.60017  , -0.13141  ,\n",
              "        0.18707  ,  0.11636  ,  0.24703  ,  0.17168  ,  0.40658  ,\n",
              "       -0.19039  ,  0.033278 , -0.26374  ,  0.28722  ,  0.27659  ,\n",
              "        0.30153  , -0.12622  ,  0.5225   ,  0.13887  , -0.15012  ,\n",
              "       -0.0038264, -0.074287 ,  0.46348  ,  0.26215  , -0.62671  ,\n",
              "        0.21841  , -0.26531  , -0.75294  , -0.36826  ,  0.072989 ,\n",
              "       -0.071807 ,  0.10612  , -0.087064 , -0.053871 ,  0.22379  ,\n",
              "        0.38538  ,  0.053972 ,  0.21208  ,  0.39662  , -0.38609  ,\n",
              "       -0.53     , -0.34169  ,  0.067624 ,  0.11835  ,  0.60372  ,\n",
              "        0.21744  , -0.12806  ,  0.13802  ,  0.22463  , -0.21566  ,\n",
              "       -0.25167  , -0.44859  , -0.39111  , -0.5259   ,  0.21266  ,\n",
              "        1.9729   ,  0.13851  ,  0.32966  ,  0.047626 , -0.37787  ,\n",
              "       -0.31769  , -0.1283   ,  0.34396  , -0.11061  , -0.23346  ,\n",
              "       -0.45134  ,  0.1605   , -0.32801  ,  0.033373 ,  0.42571  ,\n",
              "        0.42283  , -0.16932  ,  0.14068  ,  0.14087  ,  0.20856  ,\n",
              "       -0.24912  ,  0.38337  ,  0.43722  , -0.090575 ,  0.021208 ,\n",
              "       -0.22334  , -0.42596  , -0.47252  , -0.1995   ,  0.32459  ,\n",
              "        0.39765  , -0.091573 , -0.073528 , -0.20074  ,  0.22083  ,\n",
              "        0.011314 ,  0.11977  , -0.14888  , -0.27152  ,  0.28908  ,\n",
              "        0.20407  ,  0.098377 , -0.1424   , -0.059699 ,  0.032529 ,\n",
              "       -0.1877   ,  0.24643  , -0.1128   ,  0.14666  ,  0.076001 ,\n",
              "        0.31109  , -0.22119  ,  0.033051 ,  0.066731 ,  1.5449   ,\n",
              "       -0.11096  ,  0.26438  ,  0.1791   ,  0.039628 , -0.46497  ,\n",
              "        0.40052  , -0.057004 ,  0.11391  ,  0.42397  , -0.57411  ,\n",
              "        0.17205  ,  0.44401  , -0.030134 , -0.22061  ,  0.47222  ,\n",
              "       -0.12734  , -0.12288  ,  0.33832  ,  0.41698  ,  0.18355  ,\n",
              "        0.093473 , -1.9373   ,  0.053236 , -0.10361  ,  0.056681 ,\n",
              "       -0.12726  , -0.11681  ,  0.55039  ,  0.33644  ,  0.27706  ,\n",
              "        0.71184  , -0.1304   ,  0.26108  , -0.2481   ,  0.0032735,\n",
              "       -0.16505  ,  0.11827  , -0.26322  , -0.10169  ,  0.24275  ,\n",
              "        0.16927  , -0.15809  ,  0.27613  , -0.2832   ,  0.50554  ],\n",
              "      dtype=float32)"
            ]
          },
          "execution_count": 5,
          "metadata": {},
          "output_type": "execute_result"
        }
      ],
      "source": [
        "glove_embedding[\"man\"]"
      ]
    },
    {
      "cell_type": "code",
      "execution_count": null,
      "metadata": {
        "id": "23XIamSq4G_h"
      },
      "outputs": [],
      "source": [
        "\n",
        "# Define a function to find the closest words in the embedding space using Euclidean distance.\n",
        "def find_closest_embeddings(embedding):\n",
        "    return sorted(glove_embedding.keys(), key=lambda word: spatial.distance.euclidean(glove_embedding[word], embedding))\n",
        "\n"
      ]
    },
    {
      "cell_type": "code",
      "execution_count": null,
      "metadata": {
        "id": "SsD7QXq54G_i",
        "outputId": "1dd915bf-00ae-4276-bfac-6d0528adbad7"
      },
      "outputs": [
        {
          "data": {
            "text/plain": [
              "['queen', 'king', 'majesty', 'monarch']"
            ]
          },
          "execution_count": 9,
          "metadata": {},
          "output_type": "execute_result"
        }
      ],
      "source": [
        "# Find the closest embeddings for the vector representation of queen - woman + man, which typically results in \"king\".\n",
        "find_closest_embeddings(glove_embedding['queen']-glove_embedding['woman']+glove_embedding['man'])[:4]"
      ]
    },
    {
      "cell_type": "code",
      "execution_count": null,
      "metadata": {
        "id": "mXCMKUZN4G_i"
      },
      "outputs": [],
      "source": [
        "\n",
        "# Create separate lists for the words and their corresponding vectors from the GloVe embeddings.\n",
        "glove_words = list(glove_embedding.keys())[299:2500]\n",
        "glove_vectors = list(glove_embedding.values())[299:2500]\n",
        "\n",
        "# Make a dictionary includes above words as keys and their embedding vector as values\n",
        "glove_embedding = {glove_words[i]:glove_vectors[i] for i in range(len(glove_words))}"
      ]
    },
    {
      "cell_type": "code",
      "execution_count": null,
      "metadata": {
        "id": "ZFIdqHyF4G_i"
      },
      "outputs": [],
      "source": [
        "\n",
        "# A k-means clustering method on word embeddings to cluster them into 15 categories\n",
        "kmeans = KMeans(n_clusters=15)\n",
        "kmeans.fit(glove_vectors)\n",
        "labels = kmeans.labels_"
      ]
    },
    {
      "cell_type": "code",
      "execution_count": null,
      "metadata": {
        "id": "Or1tZwWV4G_i"
      },
      "outputs": [],
      "source": [
        "\n",
        "\n",
        "# A PCA to reduce glove vectors to 3D\n",
        "pca = PCA(n_components=3)\n",
        "vectors_3d = pca.fit_transform(glove_vectors)\n",
        "\n",
        "# A PCA to reduce glove vectors to 2D\n",
        "pca = PCA(n_components=2)\n",
        "vectors_2d = pca.fit_transform(glove_vectors)"
      ]
    },
    {
      "cell_type": "code",
      "execution_count": null,
      "metadata": {
        "id": "dMavpRf54G_i",
        "outputId": "2b227979-1960-4637-d7c6-455d1e29becd"
      },
      "outputs": [
        {
          "data": {
            "application/vnd.plotly.v1+json": {
              "config": {
                "plotlyServerURL": "https://plot.ly"
              },
              "data": [
                {
                  "customdata": [
                    [
                      "college",
                      12
                    ],
                    [
                      "working",
                      4
                    ],
                    [
                      "community",
                      4
                    ],
                    [
                      "eight",
                      2
                    ],
                    [
                      "groups",
                      5
                    ],
                    [
                      "despite",
                      2
                    ],
                    [
                      "level",
                      5
                    ],
                    [
                      "largest",
                      14
                    ],
                    [
                      "whose",
                      5
                    ],
                    [
                      "attacks",
                      3
                    ],
                    [
                      "germany",
                      3
                    ],
                    [
                      "august",
                      9
                    ],
                    [
                      "change",
                      10
                    ],
                    [
                      "church",
                      5
                    ],
                    [
                      "nation",
                      10
                    ],
                    [
                      "german",
                      3
                    ],
                    [
                      "station",
                      11
                    ],
                    [
                      "london",
                      0
                    ],
                    [
                      "weeks",
                      2
                    ],
                    [
                      "having",
                      2
                    ],
                    [
                      "18",
                      9
                    ],
                    [
                      "research",
                      4
                    ],
                    [
                      "black",
                      13
                    ],
                    [
                      "services",
                      4
                    ],
                    [
                      "story",
                      13
                    ],
                    [
                      "6",
                      9
                    ],
                    [
                      "europe",
                      5
                    ],
                    [
                      "sales",
                      14
                    ],
                    [
                      "policy",
                      10
                    ],
                    [
                      "visit",
                      0
                    ],
                    [
                      "northern",
                      11
                    ],
                    [
                      "lot",
                      1
                    ],
                    [
                      "across",
                      11
                    ],
                    [
                      "per",
                      14
                    ],
                    [
                      "current",
                      5
                    ],
                    [
                      "board",
                      0
                    ],
                    [
                      "football",
                      12
                    ],
                    [
                      "ministry",
                      0
                    ],
                    [
                      "workers",
                      4
                    ],
                    [
                      "vote",
                      6
                    ],
                    [
                      "book",
                      13
                    ],
                    [
                      "fell",
                      14
                    ],
                    [
                      "seen",
                      5
                    ],
                    [
                      "role",
                      5
                    ],
                    [
                      "students",
                      4
                    ],
                    [
                      "shares",
                      14
                    ],
                    [
                      "iran",
                      3
                    ],
                    [
                      "process",
                      10
                    ],
                    [
                      "agreement",
                      10
                    ],
                    [
                      "quarter",
                      14
                    ],
                    [
                      "full",
                      2
                    ],
                    [
                      "match",
                      12
                    ],
                    [
                      "started",
                      2
                    ],
                    [
                      "growth",
                      14
                    ],
                    [
                      "yet",
                      1
                    ],
                    [
                      "moved",
                      2
                    ],
                    [
                      "possible",
                      10
                    ],
                    [
                      "western",
                      3
                    ],
                    [
                      "special",
                      0
                    ],
                    [
                      "100",
                      11
                    ],
                    [
                      "plans",
                      10
                    ],
                    [
                      "interest",
                      14
                    ],
                    [
                      "behind",
                      2
                    ],
                    [
                      "strong",
                      5
                    ],
                    [
                      "england",
                      12
                    ],
                    [
                      "named",
                      7
                    ],
                    [
                      "food",
                      4
                    ],
                    [
                      "period",
                      2
                    ],
                    [
                      "real",
                      1
                    ],
                    [
                      "authorities",
                      8
                    ],
                    [
                      "car",
                      11
                    ],
                    [
                      "term",
                      5
                    ],
                    [
                      "rate",
                      14
                    ],
                    [
                      "race",
                      12
                    ],
                    [
                      "nearly",
                      2
                    ],
                    [
                      "korea",
                      3
                    ],
                    [
                      "enough",
                      1
                    ],
                    [
                      "site",
                      11
                    ],
                    [
                      "opposition",
                      6
                    ],
                    [
                      "keep",
                      1
                    ],
                    [
                      "25",
                      9
                    ],
                    [
                      "call",
                      10
                    ],
                    [
                      "future",
                      10
                    ],
                    [
                      "taking",
                      2
                    ],
                    [
                      "island",
                      11
                    ],
                    [
                      "2008",
                      9
                    ],
                    [
                      "2006",
                      9
                    ],
                    [
                      "road",
                      11
                    ],
                    [
                      "outside",
                      11
                    ],
                    [
                      "really",
                      1
                    ],
                    [
                      "century",
                      5
                    ],
                    [
                      "democratic",
                      6
                    ],
                    [
                      "almost",
                      2
                    ],
                    [
                      "single",
                      13
                    ],
                    [
                      "share",
                      14
                    ],
                    [
                      "leading",
                      2
                    ],
                    [
                      "trying",
                      1
                    ],
                    [
                      "find",
                      1
                    ],
                    [
                      "album",
                      13
                    ],
                    [
                      "senior",
                      0
                    ],
                    [
                      "minutes",
                      2
                    ],
                    [
                      "together",
                      1
                    ],
                    [
                      "congress",
                      6
                    ],
                    [
                      "index",
                      14
                    ],
                    [
                      "australia",
                      12
                    ],
                    [
                      "results",
                      5
                    ],
                    [
                      "hard",
                      1
                    ],
                    [
                      "hours",
                      2
                    ],
                    [
                      "land",
                      11
                    ],
                    [
                      "action",
                      10
                    ],
                    [
                      "higher",
                      14
                    ],
                    [
                      "field",
                      2
                    ],
                    [
                      "cut",
                      14
                    ],
                    [
                      "coach",
                      12
                    ],
                    [
                      "elections",
                      6
                    ],
                    [
                      "san",
                      12
                    ],
                    [
                      "issues",
                      4
                    ],
                    [
                      "executive",
                      0
                    ],
                    [
                      "february",
                      9
                    ],
                    [
                      "production",
                      14
                    ],
                    [
                      "areas",
                      4
                    ],
                    [
                      "river",
                      11
                    ],
                    [
                      "face",
                      2
                    ],
                    [
                      "using",
                      5
                    ],
                    [
                      "japanese",
                      14
                    ],
                    [
                      "province",
                      11
                    ],
                    [
                      "park",
                      11
                    ],
                    [
                      "price",
                      14
                    ],
                    [
                      "commission",
                      0
                    ],
                    [
                      "california",
                      12
                    ],
                    [
                      "father",
                      7
                    ],
                    [
                      "son",
                      7
                    ],
                    [
                      "education",
                      4
                    ],
                    [
                      "7",
                      9
                    ],
                    [
                      "village",
                      11
                    ],
                    [
                      "energy",
                      4
                    ],
                    [
                      "shot",
                      2
                    ],
                    [
                      "short",
                      2
                    ],
                    [
                      "africa",
                      3
                    ],
                    [
                      "key",
                      10
                    ],
                    [
                      "red",
                      2
                    ],
                    [
                      "association",
                      0
                    ],
                    [
                      "average",
                      14
                    ],
                    [
                      "pay",
                      14
                    ],
                    [
                      "exchange",
                      14
                    ],
                    [
                      "eu",
                      10
                    ],
                    [
                      "something",
                      1
                    ],
                    [
                      "gave",
                      2
                    ],
                    [
                      "likely",
                      10
                    ],
                    [
                      "player",
                      12
                    ],
                    [
                      "george",
                      7
                    ],
                    [
                      "2007",
                      9
                    ],
                    [
                      "victory",
                      12
                    ],
                    [
                      "8",
                      9
                    ],
                    [
                      "low",
                      14
                    ],
                    [
                      "things",
                      1
                    ],
                    [
                      "2010",
                      9
                    ],
                    [
                      "pakistan",
                      3
                    ],
                    [
                      "14",
                      9
                    ],
                    [
                      "post",
                      0
                    ],
                    [
                      "social",
                      4
                    ],
                    [
                      "continue",
                      10
                    ],
                    [
                      "ever",
                      1
                    ],
                    [
                      "look",
                      1
                    ],
                    [
                      "chairman",
                      0
                    ],
                    [
                      "job",
                      1
                    ],
                    [
                      "2000",
                      9
                    ],
                    [
                      "soldiers",
                      3
                    ],
                    [
                      "able",
                      1
                    ],
                    [
                      "parliament",
                      6
                    ],
                    [
                      "front",
                      2
                    ],
                    [
                      "himself",
                      1
                    ],
                    [
                      "problems",
                      5
                    ],
                    [
                      "private",
                      4
                    ],
                    [
                      "lower",
                      14
                    ],
                    [
                      "list",
                      13
                    ],
                    [
                      "built",
                      11
                    ],
                    [
                      "13",
                      9
                    ],
                    [
                      "efforts",
                      10
                    ],
                    [
                      "dollar",
                      14
                    ],
                    [
                      "miles",
                      11
                    ],
                    [
                      "included",
                      13
                    ],
                    [
                      "radio",
                      13
                    ],
                    [
                      "live",
                      13
                    ],
                    [
                      "form",
                      5
                    ],
                    [
                      "david",
                      7
                    ],
                    [
                      "african",
                      3
                    ],
                    [
                      "increase",
                      14
                    ],
                    [
                      "reports",
                      0
                    ],
                    [
                      "sent",
                      0
                    ],
                    [
                      "fourth",
                      12
                    ],
                    [
                      "always",
                      1
                    ],
                    [
                      "king",
                      7
                    ],
                    [
                      "50",
                      11
                    ],
                    [
                      "tax",
                      14
                    ],
                    [
                      "taiwan",
                      10
                    ],
                    [
                      "britain",
                      3
                    ],
                    [
                      "16",
                      9
                    ],
                    [
                      "playing",
                      12
                    ],
                    [
                      "title",
                      12
                    ],
                    [
                      "middle",
                      2
                    ],
                    [
                      "meet",
                      10
                    ],
                    [
                      "global",
                      4
                    ],
                    [
                      "wife",
                      7
                    ],
                    [
                      "2009",
                      9
                    ],
                    [
                      "position",
                      10
                    ],
                    [
                      "located",
                      11
                    ],
                    [
                      "clear",
                      10
                    ],
                    [
                      "ahead",
                      2
                    ],
                    [
                      "2004",
                      9
                    ],
                    [
                      "2005",
                      9
                    ],
                    [
                      "iraqi",
                      3
                    ],
                    [
                      "english",
                      13
                    ],
                    [
                      "result",
                      5
                    ],
                    [
                      "release",
                      13
                    ],
                    [
                      "violence",
                      3
                    ],
                    [
                      "goal",
                      2
                    ],
                    [
                      "project",
                      4
                    ],
                    [
                      "closed",
                      2
                    ],
                    [
                      "border",
                      3
                    ],
                    [
                      "body",
                      5
                    ],
                    [
                      "soon",
                      10
                    ],
                    [
                      "crisis",
                      10
                    ],
                    [
                      "division",
                      12
                    ],
                    [
                      "&amp;",
                      7
                    ],
                    [
                      "served",
                      0
                    ],
                    [
                      "tour",
                      12
                    ],
                    [
                      "hospital",
                      11
                    ],
                    [
                      "kong",
                      14
                    ],
                    [
                      "test",
                      5
                    ],
                    [
                      "hong",
                      14
                    ],
                    [
                      "u.n.",
                      3
                    ],
                    [
                      "inc.",
                      14
                    ],
                    [
                      "technology",
                      4
                    ],
                    [
                      "believe",
                      1
                    ],
                    [
                      "organization",
                      4
                    ],
                    [
                      "published",
                      13
                    ],
                    [
                      "weapons",
                      3
                    ],
                    [
                      "agreed",
                      10
                    ],
                    [
                      "why",
                      1
                    ],
                    [
                      "nine",
                      2
                    ],
                    [
                      "summer",
                      2
                    ],
                    [
                      "wanted",
                      1
                    ],
                    [
                      "republican",
                      6
                    ],
                    [
                      "act",
                      10
                    ],
                    [
                      "recently",
                      0
                    ],
                    [
                      "texas",
                      12
                    ],
                    [
                      "course",
                      2
                    ],
                    [
                      "problem",
                      1
                    ],
                    [
                      "senate",
                      6
                    ],
                    [
                      "medical",
                      4
                    ],
                    [
                      "un",
                      3
                    ],
                    [
                      "done",
                      1
                    ],
                    [
                      "reached",
                      2
                    ],
                    [
                      "star",
                      12
                    ],
                    [
                      "continued",
                      2
                    ],
                    [
                      "investors",
                      14
                    ],
                    [
                      "living",
                      5
                    ],
                    [
                      "care",
                      4
                    ],
                    [
                      "signed",
                      9
                    ],
                    [
                      "17",
                      9
                    ],
                    [
                      "art",
                      13
                    ],
                    [
                      "provide",
                      4
                    ],
                    [
                      "worked",
                      7
                    ],
                    [
                      "presidential",
                      6
                    ],
                    [
                      "gold",
                      12
                    ],
                    [
                      "obama",
                      6
                    ],
                    [
                      "morning",
                      2
                    ],
                    [
                      "dead",
                      11
                    ],
                    [
                      "opened",
                      2
                    ],
                    [
                      "'ll",
                      1
                    ],
                    [
                      "event",
                      12
                    ],
                    [
                      "previous",
                      2
                    ],
                    [
                      "cost",
                      14
                    ],
                    [
                      "instead",
                      2
                    ],
                    [
                      "canada",
                      12
                    ],
                    [
                      "band",
                      13
                    ],
                    [
                      "teams",
                      12
                    ],
                    [
                      "daily",
                      13
                    ],
                    [
                      "2001",
                      9
                    ],
                    [
                      "available",
                      13
                    ],
                    [
                      "drug",
                      8
                    ],
                    [
                      "coming",
                      2
                    ],
                    [
                      "2003",
                      9
                    ],
                    [
                      "investment",
                      14
                    ],
                    [
                      "’s",
                      13
                    ],
                    [
                      "michael",
                      7
                    ],
                    [
                      "civil",
                      8
                    ],
                    [
                      "woman",
                      1
                    ],
                    [
                      "training",
                      4
                    ],
                    [
                      "appeared",
                      2
                    ],
                    [
                      "9",
                      9
                    ],
                    [
                      "involved",
                      8
                    ],
                    [
                      "indian",
                      3
                    ],
                    [
                      "similar",
                      5
                    ],
                    [
                      "situation",
                      10
                    ],
                    [
                      "24",
                      9
                    ],
                    [
                      "los",
                      12
                    ],
                    [
                      "running",
                      2
                    ],
                    [
                      "fighting",
                      3
                    ]
                  ],
                  "hovertemplate": "x=%{x}<br>y=%{y}<br>z=%{z}<br>word=%{customdata[0]}<br>label=%{marker.color}<extra></extra>",
                  "legendgroup": "",
                  "marker": {
                    "color": {
                      "bdata": "DAAAAAQAAAAEAAAAAgAAAAUAAAACAAAABQAAAA4AAAAFAAAAAwAAAAMAAAAJAAAACgAAAAUAAAAKAAAAAwAAAAsAAAAAAAAAAgAAAAIAAAAJAAAABAAAAA0AAAAEAAAADQAAAAkAAAAFAAAADgAAAAoAAAAAAAAACwAAAAEAAAALAAAADgAAAAUAAAAAAAAADAAAAAAAAAAEAAAABgAAAA0AAAAOAAAABQAAAAUAAAAEAAAADgAAAAMAAAAKAAAACgAAAA4AAAACAAAADAAAAAIAAAAOAAAAAQAAAAIAAAAKAAAAAwAAAAAAAAALAAAACgAAAA4AAAACAAAABQAAAAwAAAAHAAAABAAAAAIAAAABAAAACAAAAAsAAAAFAAAADgAAAAwAAAACAAAAAwAAAAEAAAALAAAABgAAAAEAAAAJAAAACgAAAAoAAAACAAAACwAAAAkAAAAJAAAACwAAAAsAAAABAAAABQAAAAYAAAACAAAADQAAAA4AAAACAAAAAQAAAAEAAAANAAAAAAAAAAIAAAABAAAABgAAAA4AAAAMAAAABQAAAAEAAAACAAAACwAAAAoAAAAOAAAAAgAAAA4AAAAMAAAABgAAAAwAAAAEAAAAAAAAAAkAAAAOAAAABAAAAAsAAAACAAAABQAAAA4AAAALAAAACwAAAA4AAAAAAAAADAAAAAcAAAAHAAAABAAAAAkAAAALAAAABAAAAAIAAAACAAAAAwAAAAoAAAACAAAAAAAAAA4AAAAOAAAADgAAAAoAAAABAAAAAgAAAAoAAAAMAAAABwAAAAkAAAAMAAAACQAAAA4AAAABAAAACQAAAAMAAAAJAAAAAAAAAAQAAAAKAAAAAQAAAAEAAAAAAAAAAQAAAAkAAAADAAAAAQAAAAYAAAACAAAAAQAAAAUAAAAEAAAADgAAAA0AAAALAAAACQAAAAoAAAAOAAAACwAAAA0AAAANAAAADQAAAAUAAAAHAAAAAwAAAA4AAAAAAAAAAAAAAAwAAAABAAAABwAAAAsAAAAOAAAACgAAAAMAAAAJAAAADAAAAAwAAAACAAAACgAAAAQAAAAHAAAACQAAAAoAAAALAAAACgAAAAIAAAAJAAAACQAAAAMAAAANAAAABQAAAA0AAAADAAAAAgAAAAQAAAACAAAAAwAAAAUAAAAKAAAACgAAAAwAAAAHAAAAAAAAAAwAAAALAAAADgAAAAUAAAAOAAAAAwAAAA4AAAAEAAAAAQAAAAQAAAANAAAAAwAAAAoAAAABAAAAAgAAAAIAAAABAAAABgAAAAoAAAAAAAAADAAAAAIAAAABAAAABgAAAAQAAAADAAAAAQAAAAIAAAAMAAAAAgAAAA4AAAAFAAAABAAAAAkAAAAJAAAADQAAAAQAAAAHAAAABgAAAAwAAAAGAAAAAgAAAAsAAAACAAAAAQAAAAwAAAACAAAADgAAAAIAAAAMAAAADQAAAAwAAAANAAAACQAAAA0AAAAIAAAAAgAAAAkAAAAOAAAADQAAAAcAAAAIAAAAAQAAAAQAAAACAAAACQAAAAgAAAADAAAABQAAAAoAAAAJAAAADAAAAAIAAAADAAAA",
                      "dtype": "i4"
                    },
                    "coloraxis": "coloraxis",
                    "size": 3,
                    "symbol": "circle"
                  },
                  "mode": "markers+text",
                  "name": "",
                  "scene": "scene",
                  "showlegend": false,
                  "text": [
                    "college",
                    "working",
                    "community",
                    "eight",
                    "groups",
                    "despite",
                    "level",
                    "largest",
                    "whose",
                    "attacks",
                    "germany",
                    "august",
                    "change",
                    "church",
                    "nation",
                    "german",
                    "station",
                    "london",
                    "weeks",
                    "having",
                    "18",
                    "research",
                    "black",
                    "services",
                    "story",
                    "6",
                    "europe",
                    "sales",
                    "policy",
                    "visit",
                    "northern",
                    "lot",
                    "across",
                    "per",
                    "current",
                    "board",
                    "football",
                    "ministry",
                    "workers",
                    "vote",
                    "book",
                    "fell",
                    "seen",
                    "role",
                    "students",
                    "shares",
                    "iran",
                    "process",
                    "agreement",
                    "quarter",
                    "full",
                    "match",
                    "started",
                    "growth",
                    "yet",
                    "moved",
                    "possible",
                    "western",
                    "special",
                    "100",
                    "plans",
                    "interest",
                    "behind",
                    "strong",
                    "england",
                    "named",
                    "food",
                    "period",
                    "real",
                    "authorities",
                    "car",
                    "term",
                    "rate",
                    "race",
                    "nearly",
                    "korea",
                    "enough",
                    "site",
                    "opposition",
                    "keep",
                    "25",
                    "call",
                    "future",
                    "taking",
                    "island",
                    "2008",
                    "2006",
                    "road",
                    "outside",
                    "really",
                    "century",
                    "democratic",
                    "almost",
                    "single",
                    "share",
                    "leading",
                    "trying",
                    "find",
                    "album",
                    "senior",
                    "minutes",
                    "together",
                    "congress",
                    "index",
                    "australia",
                    "results",
                    "hard",
                    "hours",
                    "land",
                    "action",
                    "higher",
                    "field",
                    "cut",
                    "coach",
                    "elections",
                    "san",
                    "issues",
                    "executive",
                    "february",
                    "production",
                    "areas",
                    "river",
                    "face",
                    "using",
                    "japanese",
                    "province",
                    "park",
                    "price",
                    "commission",
                    "california",
                    "father",
                    "son",
                    "education",
                    "7",
                    "village",
                    "energy",
                    "shot",
                    "short",
                    "africa",
                    "key",
                    "red",
                    "association",
                    "average",
                    "pay",
                    "exchange",
                    "eu",
                    "something",
                    "gave",
                    "likely",
                    "player",
                    "george",
                    "2007",
                    "victory",
                    "8",
                    "low",
                    "things",
                    "2010",
                    "pakistan",
                    "14",
                    "post",
                    "social",
                    "continue",
                    "ever",
                    "look",
                    "chairman",
                    "job",
                    "2000",
                    "soldiers",
                    "able",
                    "parliament",
                    "front",
                    "himself",
                    "problems",
                    "private",
                    "lower",
                    "list",
                    "built",
                    "13",
                    "efforts",
                    "dollar",
                    "miles",
                    "included",
                    "radio",
                    "live",
                    "form",
                    "david",
                    "african",
                    "increase",
                    "reports",
                    "sent",
                    "fourth",
                    "always",
                    "king",
                    "50",
                    "tax",
                    "taiwan",
                    "britain",
                    "16",
                    "playing",
                    "title",
                    "middle",
                    "meet",
                    "global",
                    "wife",
                    "2009",
                    "position",
                    "located",
                    "clear",
                    "ahead",
                    "2004",
                    "2005",
                    "iraqi",
                    "english",
                    "result",
                    "release",
                    "violence",
                    "goal",
                    "project",
                    "closed",
                    "border",
                    "body",
                    "soon",
                    "crisis",
                    "division",
                    "&amp;",
                    "served",
                    "tour",
                    "hospital",
                    "kong",
                    "test",
                    "hong",
                    "u.n.",
                    "inc.",
                    "technology",
                    "believe",
                    "organization",
                    "published",
                    "weapons",
                    "agreed",
                    "why",
                    "nine",
                    "summer",
                    "wanted",
                    "republican",
                    "act",
                    "recently",
                    "texas",
                    "course",
                    "problem",
                    "senate",
                    "medical",
                    "un",
                    "done",
                    "reached",
                    "star",
                    "continued",
                    "investors",
                    "living",
                    "care",
                    "signed",
                    "17",
                    "art",
                    "provide",
                    "worked",
                    "presidential",
                    "gold",
                    "obama",
                    "morning",
                    "dead",
                    "opened",
                    "'ll",
                    "event",
                    "previous",
                    "cost",
                    "instead",
                    "canada",
                    "band",
                    "teams",
                    "daily",
                    "2001",
                    "available",
                    "drug",
                    "coming",
                    "2003",
                    "investment",
                    "’s",
                    "michael",
                    "civil",
                    "woman",
                    "training",
                    "appeared",
                    "9",
                    "involved",
                    "indian",
                    "similar",
                    "situation",
                    "24",
                    "los",
                    "running",
                    "fighting"
                  ],
                  "type": "scatter3d",
                  "x": {
                    "bdata": "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",
                    "dtype": "f8"
                  },
                  "y": {
                    "bdata": "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",
                    "dtype": "f8"
                  },
                  "z": {
                    "bdata": "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",
                    "dtype": "f8"
                  }
                }
              ],
              "layout": {
                "coloraxis": {
                  "colorbar": {
                    "title": {
                      "text": "label"
                    }
                  },
                  "colorscale": [
                    [
                      0,
                      "#0d0887"
                    ],
                    [
                      0.1111111111111111,
                      "#46039f"
                    ],
                    [
                      0.2222222222222222,
                      "#7201a8"
                    ],
                    [
                      0.3333333333333333,
                      "#9c179e"
                    ],
                    [
                      0.4444444444444444,
                      "#bd3786"
                    ],
                    [
                      0.5555555555555556,
                      "#d8576b"
                    ],
                    [
                      0.6666666666666666,
                      "#ed7953"
                    ],
                    [
                      0.7777777777777778,
                      "#fb9f3a"
                    ],
                    [
                      0.8888888888888888,
                      "#fdca26"
                    ],
                    [
                      1,
                      "#f0f921"
                    ]
                  ]
                },
                "legend": {
                  "tracegroupgap": 0
                },
                "margin": {
                  "b": 0,
                  "l": 0,
                  "r": 0,
                  "t": 40
                },
                "scene": {
                  "domain": {
                    "x": [
                      0,
                      1
                    ],
                    "y": [
                      0,
                      1
                    ]
                  },
                  "xaxis": {
                    "title": {
                      "text": "PCA Component 1"
                    }
                  },
                  "yaxis": {
                    "title": {
                      "text": "PCA Component 2"
                    }
                  },
                  "zaxis": {
                    "title": {
                      "text": "PCA Component 3"
                    }
                  }
                },
                "template": {
                  "data": {
                    "bar": [
                      {
                        "error_x": {
                          "color": "#2a3f5f"
                        },
                        "error_y": {
                          "color": "#2a3f5f"
                        },
                        "marker": {
                          "line": {
                            "color": "#E5ECF6",
                            "width": 0.5
                          },
                          "pattern": {
                            "fillmode": "overlay",
                            "size": 10,
                            "solidity": 0.2
                          }
                        },
                        "type": "bar"
                      }
                    ],
                    "barpolar": [
                      {
                        "marker": {
                          "line": {
                            "color": "#E5ECF6",
                            "width": 0.5
                          },
                          "pattern": {
                            "fillmode": "overlay",
                            "size": 10,
                            "solidity": 0.2
                          }
                        },
                        "type": "barpolar"
                      }
                    ],
                    "carpet": [
                      {
                        "aaxis": {
                          "endlinecolor": "#2a3f5f",
                          "gridcolor": "white",
                          "linecolor": "white",
                          "minorgridcolor": "white",
                          "startlinecolor": "#2a3f5f"
                        },
                        "baxis": {
                          "endlinecolor": "#2a3f5f",
                          "gridcolor": "white",
                          "linecolor": "white",
                          "minorgridcolor": "white",
                          "startlinecolor": "#2a3f5f"
                        },
                        "type": "carpet"
                      }
                    ],
                    "choropleth": [
                      {
                        "colorbar": {
                          "outlinewidth": 0,
                          "ticks": ""
                        },
                        "type": "choropleth"
                      }
                    ],
                    "contour": [
                      {
                        "colorbar": {
                          "outlinewidth": 0,
                          "ticks": ""
                        },
                        "colorscale": [
                          [
                            0,
                            "#0d0887"
                          ],
                          [
                            0.1111111111111111,
                            "#46039f"
                          ],
                          [
                            0.2222222222222222,
                            "#7201a8"
                          ],
                          [
                            0.3333333333333333,
                            "#9c179e"
                          ],
                          [
                            0.4444444444444444,
                            "#bd3786"
                          ],
                          [
                            0.5555555555555556,
                            "#d8576b"
                          ],
                          [
                            0.6666666666666666,
                            "#ed7953"
                          ],
                          [
                            0.7777777777777778,
                            "#fb9f3a"
                          ],
                          [
                            0.8888888888888888,
                            "#fdca26"
                          ],
                          [
                            1,
                            "#f0f921"
                          ]
                        ],
                        "type": "contour"
                      }
                    ],
                    "contourcarpet": [
                      {
                        "colorbar": {
                          "outlinewidth": 0,
                          "ticks": ""
                        },
                        "type": "contourcarpet"
                      }
                    ],
                    "heatmap": [
                      {
                        "colorbar": {
                          "outlinewidth": 0,
                          "ticks": ""
                        },
                        "colorscale": [
                          [
                            0,
                            "#0d0887"
                          ],
                          [
                            0.1111111111111111,
                            "#46039f"
                          ],
                          [
                            0.2222222222222222,
                            "#7201a8"
                          ],
                          [
                            0.3333333333333333,
                            "#9c179e"
                          ],
                          [
                            0.4444444444444444,
                            "#bd3786"
                          ],
                          [
                            0.5555555555555556,
                            "#d8576b"
                          ],
                          [
                            0.6666666666666666,
                            "#ed7953"
                          ],
                          [
                            0.7777777777777778,
                            "#fb9f3a"
                          ],
                          [
                            0.8888888888888888,
                            "#fdca26"
                          ],
                          [
                            1,
                            "#f0f921"
                          ]
                        ],
                        "type": "heatmap"
                      }
                    ],
                    "histogram": [
                      {
                        "marker": {
                          "pattern": {
                            "fillmode": "overlay",
                            "size": 10,
                            "solidity": 0.2
                          }
                        },
                        "type": "histogram"
                      }
                    ],
                    "histogram2d": [
                      {
                        "colorbar": {
                          "outlinewidth": 0,
                          "ticks": ""
                        },
                        "colorscale": [
                          [
                            0,
                            "#0d0887"
                          ],
                          [
                            0.1111111111111111,
                            "#46039f"
                          ],
                          [
                            0.2222222222222222,
                            "#7201a8"
                          ],
                          [
                            0.3333333333333333,
                            "#9c179e"
                          ],
                          [
                            0.4444444444444444,
                            "#bd3786"
                          ],
                          [
                            0.5555555555555556,
                            "#d8576b"
                          ],
                          [
                            0.6666666666666666,
                            "#ed7953"
                          ],
                          [
                            0.7777777777777778,
                            "#fb9f3a"
                          ],
                          [
                            0.8888888888888888,
                            "#fdca26"
                          ],
                          [
                            1,
                            "#f0f921"
                          ]
                        ],
                        "type": "histogram2d"
                      }
                    ],
                    "histogram2dcontour": [
                      {
                        "colorbar": {
                          "outlinewidth": 0,
                          "ticks": ""
                        },
                        "colorscale": [
                          [
                            0,
                            "#0d0887"
                          ],
                          [
                            0.1111111111111111,
                            "#46039f"
                          ],
                          [
                            0.2222222222222222,
                            "#7201a8"
                          ],
                          [
                            0.3333333333333333,
                            "#9c179e"
                          ],
                          [
                            0.4444444444444444,
                            "#bd3786"
                          ],
                          [
                            0.5555555555555556,
                            "#d8576b"
                          ],
                          [
                            0.6666666666666666,
                            "#ed7953"
                          ],
                          [
                            0.7777777777777778,
                            "#fb9f3a"
                          ],
                          [
                            0.8888888888888888,
                            "#fdca26"
                          ],
                          [
                            1,
                            "#f0f921"
                          ]
                        ],
                        "type": "histogram2dcontour"
                      }
                    ],
                    "mesh3d": [
                      {
                        "colorbar": {
                          "outlinewidth": 0,
                          "ticks": ""
                        },
                        "type": "mesh3d"
                      }
                    ],
                    "parcoords": [
                      {
                        "line": {
                          "colorbar": {
                            "outlinewidth": 0,
                            "ticks": ""
                          }
                        },
                        "type": "parcoords"
                      }
                    ],
                    "pie": [
                      {
                        "automargin": true,
                        "type": "pie"
                      }
                    ],
                    "scatter": [
                      {
                        "fillpattern": {
                          "fillmode": "overlay",
                          "size": 10,
                          "solidity": 0.2
                        },
                        "type": "scatter"
                      }
                    ],
                    "scatter3d": [
                      {
                        "line": {
                          "colorbar": {
                            "outlinewidth": 0,
                            "ticks": ""
                          }
                        },
                        "marker": {
                          "colorbar": {
                            "outlinewidth": 0,
                            "ticks": ""
                          }
                        },
                        "type": "scatter3d"
                      }
                    ],
                    "scattercarpet": [
                      {
                        "marker": {
                          "colorbar": {
                            "outlinewidth": 0,
                            "ticks": ""
                          }
                        },
                        "type": "scattercarpet"
                      }
                    ],
                    "scattergeo": [
                      {
                        "marker": {
                          "colorbar": {
                            "outlinewidth": 0,
                            "ticks": ""
                          }
                        },
                        "type": "scattergeo"
                      }
                    ],
                    "scattergl": [
                      {
                        "marker": {
                          "colorbar": {
                            "outlinewidth": 0,
                            "ticks": ""
                          }
                        },
                        "type": "scattergl"
                      }
                    ],
                    "scattermap": [
                      {
                        "marker": {
                          "colorbar": {
                            "outlinewidth": 0,
                            "ticks": ""
                          }
                        },
                        "type": "scattermap"
                      }
                    ],
                    "scattermapbox": [
                      {
                        "marker": {
                          "colorbar": {
                            "outlinewidth": 0,
                            "ticks": ""
                          }
                        },
                        "type": "scattermapbox"
                      }
                    ],
                    "scatterpolar": [
                      {
                        "marker": {
                          "colorbar": {
                            "outlinewidth": 0,
                            "ticks": ""
                          }
                        },
                        "type": "scatterpolar"
                      }
                    ],
                    "scatterpolargl": [
                      {
                        "marker": {
                          "colorbar": {
                            "outlinewidth": 0,
                            "ticks": ""
                          }
                        },
                        "type": "scatterpolargl"
                      }
                    ],
                    "scatterternary": [
                      {
                        "marker": {
                          "colorbar": {
                            "outlinewidth": 0,
                            "ticks": ""
                          }
                        },
                        "type": "scatterternary"
                      }
                    ],
                    "surface": [
                      {
                        "colorbar": {
                          "outlinewidth": 0,
                          "ticks": ""
                        },
                        "colorscale": [
                          [
                            0,
                            "#0d0887"
                          ],
                          [
                            0.1111111111111111,
                            "#46039f"
                          ],
                          [
                            0.2222222222222222,
                            "#7201a8"
                          ],
                          [
                            0.3333333333333333,
                            "#9c179e"
                          ],
                          [
                            0.4444444444444444,
                            "#bd3786"
                          ],
                          [
                            0.5555555555555556,
                            "#d8576b"
                          ],
                          [
                            0.6666666666666666,
                            "#ed7953"
                          ],
                          [
                            0.7777777777777778,
                            "#fb9f3a"
                          ],
                          [
                            0.8888888888888888,
                            "#fdca26"
                          ],
                          [
                            1,
                            "#f0f921"
                          ]
                        ],
                        "type": "surface"
                      }
                    ],
                    "table": [
                      {
                        "cells": {
                          "fill": {
                            "color": "#EBF0F8"
                          },
                          "line": {
                            "color": "white"
                          }
                        },
                        "header": {
                          "fill": {
                            "color": "#C8D4E3"
                          },
                          "line": {
                            "color": "white"
                          }
                        },
                        "type": "table"
                      }
                    ]
                  },
                  "layout": {
                    "annotationdefaults": {
                      "arrowcolor": "#2a3f5f",
                      "arrowhead": 0,
                      "arrowwidth": 1
                    },
                    "autotypenumbers": "strict",
                    "coloraxis": {
                      "colorbar": {
                        "outlinewidth": 0,
                        "ticks": ""
                      }
                    },
                    "colorscale": {
                      "diverging": [
                        [
                          0,
                          "#8e0152"
                        ],
                        [
                          0.1,
                          "#c51b7d"
                        ],
                        [
                          0.2,
                          "#de77ae"
                        ],
                        [
                          0.3,
                          "#f1b6da"
                        ],
                        [
                          0.4,
                          "#fde0ef"
                        ],
                        [
                          0.5,
                          "#f7f7f7"
                        ],
                        [
                          0.6,
                          "#e6f5d0"
                        ],
                        [
                          0.7,
                          "#b8e186"
                        ],
                        [
                          0.8,
                          "#7fbc41"
                        ],
                        [
                          0.9,
                          "#4d9221"
                        ],
                        [
                          1,
                          "#276419"
                        ]
                      ],
                      "sequential": [
                        [
                          0,
                          "#0d0887"
                        ],
                        [
                          0.1111111111111111,
                          "#46039f"
                        ],
                        [
                          0.2222222222222222,
                          "#7201a8"
                        ],
                        [
                          0.3333333333333333,
                          "#9c179e"
                        ],
                        [
                          0.4444444444444444,
                          "#bd3786"
                        ],
                        [
                          0.5555555555555556,
                          "#d8576b"
                        ],
                        [
                          0.6666666666666666,
                          "#ed7953"
                        ],
                        [
                          0.7777777777777778,
                          "#fb9f3a"
                        ],
                        [
                          0.8888888888888888,
                          "#fdca26"
                        ],
                        [
                          1,
                          "#f0f921"
                        ]
                      ],
                      "sequentialminus": [
                        [
                          0,
                          "#0d0887"
                        ],
                        [
                          0.1111111111111111,
                          "#46039f"
                        ],
                        [
                          0.2222222222222222,
                          "#7201a8"
                        ],
                        [
                          0.3333333333333333,
                          "#9c179e"
                        ],
                        [
                          0.4444444444444444,
                          "#bd3786"
                        ],
                        [
                          0.5555555555555556,
                          "#d8576b"
                        ],
                        [
                          0.6666666666666666,
                          "#ed7953"
                        ],
                        [
                          0.7777777777777778,
                          "#fb9f3a"
                        ],
                        [
                          0.8888888888888888,
                          "#fdca26"
                        ],
                        [
                          1,
                          "#f0f921"
                        ]
                      ]
                    },
                    "colorway": [
                      "#636efa",
                      "#EF553B",
                      "#00cc96",
                      "#ab63fa",
                      "#FFA15A",
                      "#19d3f3",
                      "#FF6692",
                      "#B6E880",
                      "#FF97FF",
                      "#FECB52"
                    ],
                    "font": {
                      "color": "#2a3f5f"
                    },
                    "geo": {
                      "bgcolor": "white",
                      "lakecolor": "white",
                      "landcolor": "#E5ECF6",
                      "showlakes": true,
                      "showland": true,
                      "subunitcolor": "white"
                    },
                    "hoverlabel": {
                      "align": "left"
                    },
                    "hovermode": "closest",
                    "mapbox": {
                      "style": "light"
                    },
                    "paper_bgcolor": "white",
                    "plot_bgcolor": "#E5ECF6",
                    "polar": {
                      "angularaxis": {
                        "gridcolor": "white",
                        "linecolor": "white",
                        "ticks": ""
                      },
                      "bgcolor": "#E5ECF6",
                      "radialaxis": {
                        "gridcolor": "white",
                        "linecolor": "white",
                        "ticks": ""
                      }
                    },
                    "scene": {
                      "xaxis": {
                        "backgroundcolor": "#E5ECF6",
                        "gridcolor": "white",
                        "gridwidth": 2,
                        "linecolor": "white",
                        "showbackground": true,
                        "ticks": "",
                        "zerolinecolor": "white"
                      },
                      "yaxis": {
                        "backgroundcolor": "#E5ECF6",
                        "gridcolor": "white",
                        "gridwidth": 2,
                        "linecolor": "white",
                        "showbackground": true,
                        "ticks": "",
                        "zerolinecolor": "white"
                      },
                      "zaxis": {
                        "backgroundcolor": "#E5ECF6",
                        "gridcolor": "white",
                        "gridwidth": 2,
                        "linecolor": "white",
                        "showbackground": true,
                        "ticks": "",
                        "zerolinecolor": "white"
                      }
                    },
                    "shapedefaults": {
                      "line": {
                        "color": "#2a3f5f"
                      }
                    },
                    "ternary": {
                      "aaxis": {
                        "gridcolor": "white",
                        "linecolor": "white",
                        "ticks": ""
                      },
                      "baxis": {
                        "gridcolor": "white",
                        "linecolor": "white",
                        "ticks": ""
                      },
                      "bgcolor": "#E5ECF6",
                      "caxis": {
                        "gridcolor": "white",
                        "linecolor": "white",
                        "ticks": ""
                      }
                    },
                    "title": {
                      "x": 0.05
                    },
                    "xaxis": {
                      "automargin": true,
                      "gridcolor": "white",
                      "linecolor": "white",
                      "ticks": "",
                      "title": {
                        "standoff": 15
                      },
                      "zerolinecolor": "white",
                      "zerolinewidth": 2
                    },
                    "yaxis": {
                      "automargin": true,
                      "gridcolor": "white",
                      "linecolor": "white",
                      "ticks": "",
                      "title": {
                        "standoff": 15
                      },
                      "zerolinecolor": "white",
                      "zerolinewidth": 2
                    }
                  }
                },
                "title": {
                  "text": "3D Visualization of GloVe Embeddings with Tooltips"
                }
              }
            }
          },
          "metadata": {},
          "output_type": "display_data"
        }
      ],
      "source": [
        "import plotly.express as px\n",
        "import pandas as pd\n",
        "\n",
        "# Create a DataFrame for the 3D vectors, labels, and words\n",
        "df = pd.DataFrame({\n",
        "    'x': vectors_3d[200:500, 0],\n",
        "    'y': vectors_3d[200:500, 1],\n",
        "    'z': vectors_3d[200:500, 2],\n",
        "    'label': labels[200:500],\n",
        "    'word': glove_words[200:500]\n",
        "})\n",
        "\n",
        "# Create a 3D scatter plot using Plotly\n",
        "fig = px.scatter_3d(df, x='x', y='y', z='z', color='label', text='word',\n",
        "                    hover_data={'word': True, 'label': True})\n",
        "\n",
        "fig.update_traces(marker=dict(size=3))\n",
        "\n",
        "# Update the layout for better visualization\n",
        "fig.update_layout(\n",
        "    title='3D Visualization of GloVe Embeddings with Tooltips',\n",
        "    scene=dict(\n",
        "        xaxis_title='PCA Component 1',\n",
        "        yaxis_title='PCA Component 2',\n",
        "        zaxis_title='PCA Component 3'\n",
        "    ),\n",
        "    margin=dict(l=0, r=0, b=0, t=40)\n",
        ")\n",
        "\n",
        "# Show the plot\n",
        "fig.show()\n"
      ]
    },
    {
      "cell_type": "code",
      "execution_count": null,
      "metadata": {
        "id": "P1WvzR8p4G_j",
        "outputId": "4e3af2b5-bc67-4631-93d0-e088af7ca66d"
      },
      "outputs": [
        {
          "data": {
            "image/png": "[encoded data removed]",
            "text/plain": [
              "<Figure size 2160x2160 with 1 Axes>"
            ]
          },
          "metadata": {},
          "output_type": "display_data"
        }
      ],
      "source": [
        "\n",
        "# Extracting specific slices of the 2D vectors and corresponding labels and words for plotting\n",
        "\n",
        "x=vectors_2d[200:500, 0]\n",
        "y=vectors_2d[200:500, 1]\n",
        "colors = labels[200:500]\n",
        "words = glove_words[200:500]\n",
        "\n",
        "# Create the plot with specified size and resolution\n",
        "fig = plt.figure(figsize=(18, 18), dpi=120)\n",
        "ax = fig.add_subplot(111)\n",
        "\n",
        "# Scatter plot with color coding based on labels\n",
        "sc = ax.scatter(x, y, c=colors, s=50, alpha=0.6)\n",
        "\n",
        "# Add text annotations\n",
        "for i, word in enumerate(words):\n",
        "    ax.text(x[i], y[i], word, fontsize=10)\n",
        "\n",
        "plt.show()"
      ]
    },
    {
      "cell_type": "code",
      "execution_count": null,
      "metadata": {
        "id": "AVBa_fyU4G_j",
        "outputId": "305aa1eb-dc2b-481b-9d40-7d499bb84723"
      },
      "outputs": [
        {
          "data": {
            "image/png": "[encoded data removed]",
            "text/plain": [
              "<Figure size 900x720 with 1 Axes>"
            ]
          },
          "metadata": {},
          "output_type": "display_data"
        }
      ],
      "source": [
        "from matplotlib import cm\n",
        "\n",
        "# Define a list of words to visualize\n",
        "words = [\"man\", \"king\", \"woman\", \"queen\"]\n",
        "\n",
        "# Extract the corresponding vectors for these words from the GloVe embeddings\n",
        "vectors = [glove_embedding[i] for i in words]\n",
        "\n",
        "# Generate new labels for the selected words\n",
        "new_labels = [labels[i] for i in range(len(glove_words)) if glove_words[i] in words]\n",
        "# Perform PCA to reduce the dimensionality of the vectors to 3 components\n",
        "pca = PCA(n_components=3)\n",
        "vectors_3d = pca.fit_transform(vectors)\n",
        "\n",
        "# Create a plot with specified size and resolution\n",
        "fig = plt.figure(figsize=(10,8), dpi=90)\n",
        "ax = fig.add_subplot(111, projection='3d')\n",
        "\n",
        "# Scatter plot of the 3D vectors with color coding based on new labels\n",
        "colors = cm.viridis(np.linspace(0, 1, len(words)))  # Generate distinct colors\n",
        "\n",
        "ax.scatter(vectors_3d[:, 0], vectors_3d[:, 1], vectors_3d[:, 2], s=50, c=colors)\n",
        "\n",
        "# Add text annotations for each point in the scatter plot\n",
        "for i, word in enumerate(words):\n",
        "    ax.text(vectors_3d[i, 0], vectors_3d[i, 1], vectors_3d[i, 2], word, fontsize=10)\n",
        "\n",
        "plt.show()\n"
      ]
    },
    {
      "cell_type": "code",
      "execution_count": null,
      "metadata": {
        "id": "I9yI6_kn4G_j",
        "outputId": "c0ef6dfd-3860-406c-a4a0-13f47465711e"
      },
      "outputs": [
        {
          "data": {
            "image/png": "[encoded data removed]",
            "text/plain": [
              "<Figure size 900x720 with 1 Axes>"
            ]
          },
          "metadata": {},
          "output_type": "display_data"
        }
      ],
      "source": [
        "\n",
        "# Define a list of words to visualize\n",
        "words = [\"man\", \"king\", \"woman\", \"queen\"]\n",
        "\n",
        "# Extract the corresponding vectors for these words from the GloVe embeddings and convert to numpy array\n",
        "vectors = np.array([glove_embedding[i] for i in words])\n",
        "\n",
        "# Generate new labels for the selected words\n",
        "new_labels = [labels[i] for i in range(len(glove_words)) if glove_words[i] in words]\n",
        "\n",
        "# Perform t-SNE to reduce the dimensionality of the vectors to 2 components\n",
        "tsne = TSNE(n_components=2, perplexity=2)\n",
        "vectors_2d = tsne.fit_transform(vectors)\n",
        "\n",
        "# Create a plot with specified size and resolution\n",
        "fig = plt.figure(figsize=(10,8), dpi=90)\n",
        "ax = fig.add_subplot(111)\n",
        "\n",
        "# Scatter plot of the 2D vectors with color coding based on new labels\n",
        "ax.scatter(vectors_2d[:, 0], vectors_2d[:, 1], s=50, c=colors)\n",
        "\n",
        "# Add text annotations for each point in the scatter plot\n",
        "for i, word in enumerate(words):\n",
        "    ax.text(vectors_2d[i, 0], vectors_2d[i, 1], word, fontsize=10)\n",
        "\n",
        "plt.show()"
      ]
    },
    {
      "cell_type": "code",
      "execution_count": null,
      "metadata": {
        "id": "e-GMpYrf4G_j",
        "outputId": "2ceabe82-ed27-40e9-a39c-37ca9de5d930"
      },
      "outputs": [
        {
          "data": {
            "image/png": "[encoded data removed]",
            "text/plain": [
              "<Figure size 900x720 with 1 Axes>"
            ]
          },
          "metadata": {},
          "output_type": "display_data"
        }
      ],
      "source": [
        "# Define a list of words to visualize\n",
        "words = [\"man\", \"king\", \"woman\", \"queen\"]\n",
        "\n",
        "# Extract the corresponding vectors for these words from the GloVe embeddings and convert to numpy array\n",
        "vectors = np.array([glove_embedding[i] for i in words])\n",
        "\n",
        "# Define new labels with specific colors for each word\n",
        "new_labels = ['#ffc60e', 'black', 'red', 'purple']\n",
        "\n",
        "# Perform PCA to reduce the dimensionality of the vectors to 2 components\n",
        "pca = PCA(n_components=2)\n",
        "vectors_2d = pca.fit_transform(vectors)\n",
        "\n",
        "# Create a plot with specified size and resolution\n",
        "fig = plt.figure(figsize=(10, 8), dpi=90)\n",
        "ax = fig.add_subplot(111)\n",
        "\n",
        "# Scatter plot of the 2D vectors with color coding based on new labels\n",
        "ax.scatter(vectors_2d[:, 0], vectors_2d[:, 1], s=100, c=new_labels)\n",
        "\n",
        "# Add text annotations for each point in the scatter plot\n",
        "for i, word in enumerate(words):\n",
        "    ax.text(vectors_2d[i, 0], vectors_2d[i, 1], word, fontsize=13)\n",
        "\n",
        "# Create a dictionary to store the 2D points for each word\n",
        "points = {word: vectors_2d[i] for i, word in enumerate(words)}\n",
        "queen_point = points['queen']\n",
        "woman_point = points['woman']\n",
        "man_point = points['man']\n",
        "\n",
        "# Calculate the vector differences and additions\n",
        "queen_woman = queen_point - woman_point\n",
        "plus_man = queen_woman + man_point\n",
        "\n",
        "# Plot the vectors using quiver with dotted lines\n",
        "ax.quiver(0, 0, queen_point[0], queen_point[1], angles='xy', scale_units='xy', scale=1, color='purple', linestyle='dotted')\n",
        "ax.quiver(0, 0, woman_point[0], woman_point[1], angles='xy', scale_units='xy', scale=1, color='red', linestyle='dotted')\n",
        "ax.quiver(0, 0, man_point[0], man_point[1], angles='xy', scale_units='xy', scale=1, color='#ffc60e', linestyle='dotted')\n",
        "ax.quiver(0, 0, queen_woman[0], queen_woman[1], angles='xy', scale_units='xy', scale=1, color='blue', linestyle='dotted')\n",
        "ax.quiver(0, 0, plus_man[0], plus_man[1], angles='xy', scale_units='xy', scale=1, color='green', linestyle='dotted')\n",
        "\n",
        "# Scatter and annotate the calculated points\n",
        "ax.scatter(plus_man[0], plus_man[1], s=100, c='green')\n",
        "ax.text(plus_man[0], plus_man[1], 'queen - woman + man', fontsize=13)\n",
        "ax.scatter(queen_woman[0], queen_woman[1], s=100, c='blue')\n",
        "ax.text(queen_woman[0], queen_woman[1], 'queen-woman', fontsize=13)\n",
        "\n",
        "# Set the limits for the plot axes\n",
        "ax.set_xlim(min(vectors_2d[:, 0]) - 3, max(vectors_2d[:, 0]) + 1)\n",
        "ax.set_ylim(min(vectors_2d[:, 1]) - 3, max(vectors_2d[:, 1]) + 1)\n",
        "\n",
        "plt.show()\n"
      ]
    },
    {
      "cell_type": "markdown",
      "source": [
        "## Word2Vec & FastText"
      ],
      "metadata": {
        "id": "4l6imf454Sd8"
      }
    },
    {
      "cell_type": "code",
      "execution_count": null,
      "metadata": {
        "id": "F5NnD9aU4G_j",
        "outputId": "e1bfd072-3681-4ece-f419-d95f46a25e13"
      },
      "outputs": [
        {
          "data": {
            "image/png": "[encoded data removed]",
            "text/plain": [
              "<Figure size 1200x500 with 2 Axes>"
            ]
          },
          "metadata": {},
          "output_type": "display_data"
        }
      ],
      "source": [
        "from gensim.models import Word2Vec, FastText\n",
        "import numpy as np\n",
        "from sklearn.decomposition import PCA\n",
        "import matplotlib.pyplot as plt\n",
        "\n",
        "# Sample corpus with morphological variations\n",
        "sentences = [\n",
        "    [\"king\", \"queen\", \"man\", \"woman\", \"royal\", \"crown\", \"prince\", \"princess\"],\n",
        "    [\"run\", \"running\", \"runner\", \"ran\"],\n",
        "    [\"play\", \"playing\", \"player\", \"played\"],\n",
        "    [\"eat\", \"eating\", \"eater\", \"ate\"]\n",
        "]\n",
        "\n",
        "# Train Word2Vec\n",
        "word2vec_model = Word2Vec(sentences, vector_size=10, window=3, min_count=1, workers=1)\n",
        "\n",
        "# Train FastText\n",
        "fasttext_model = FastText(sentences, vector_size=10, window=3, min_count=1, workers=1)\n",
        "\n",
        "# Choose words to visualize\n",
        "words = [\"run\", \"running\", \"runner\", \"ran\", \"play\", \"playing\", \"player\", \"played\"]\n",
        "w2v_vectors = np.array([word2vec_model.wv[word] for word in words])\n",
        "ft_vectors = np.array([fasttext_model.wv[word] for word in words])\n",
        "\n",
        "# Reduce dimensions for visualization\n",
        "pca = PCA(n_components=2)\n",
        "w2v_2d = pca.fit_transform(w2v_vectors)\n",
        "ft_2d = pca.fit_transform(ft_vectors)\n",
        "\n",
        "# Plot function with subplots\n",
        "def plot_embeddings(w2v_embeddings, ft_embeddings, words):\n",
        "    fig, axes = plt.subplots(1, 2, figsize=(12, 5))\n",
        "\n",
        "    for i, (embeddings, title, ax) in enumerate(zip(\n",
        "        [w2v_embeddings, ft_embeddings],\n",
        "        [\"Word2Vec Embeddings\", \"FastText Embeddings\"],\n",
        "        axes\n",
        "    )):\n",
        "        for j, word in enumerate(words):\n",
        "            x, y = embeddings[j]\n",
        "            ax.scatter(x, y, label=word)\n",
        "            ax.text(x + 0.005, y + 0.005, word, fontsize=8)\n",
        "        ax.set_title(title)\n",
        "\n",
        "    plt.show()\n",
        "\n",
        "# Visualize embeddings\n",
        "plot_embeddings(w2v_2d, ft_2d, words)\n",
        "\n"
      ]
    }
  ],
  "metadata": {
    "kernelspec": {
      "display_name": "Python 3",
      "language": "python",
      "name": "python3"
    },
    "language_info": {
      "codemirror_mode": {
        "name": "ipython",
        "version": 3
      },
      "file_extension": ".py",
      "mimetype": "text/x-python",
      "name": "python",
      "nbconvert_exporter": "python",
      "pygments_lexer": "ipython3",
      "version": "3.11.0"
    },
    "colab": {
      "provenance": []
    }
  },
  "nbformat": 4,
  "nbformat_minor": 0
}